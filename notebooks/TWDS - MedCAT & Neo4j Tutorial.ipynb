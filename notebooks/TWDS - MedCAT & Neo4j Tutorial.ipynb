{
 "cells": [
  {
   "cell_type": "code",
   "execution_count": 53,
   "id": "33d59982",
   "metadata": {},
   "outputs": [
    {
     "name": "stderr",
     "output_type": "stream",
     "text": [
      "/home/wish/projects/MedCAT/medcat/cat.py:16: TqdmExperimentalWarning: Using `tqdm.autonotebook.tqdm` in notebook mode. Use `tqdm.tqdm` instead to force console mode (e.g. in jupyter console)\n",
      "  from tqdm.autonotebook import tqdm\n"
     ]
    },
    {
     "name": "stdout",
     "output_type": "stream",
     "text": [
      "Password:········\n"
     ]
    }
   ],
   "source": [
    "from medcat.neo.data_preparation import *\n",
    "from medcat.neo.neo_connector import NeoConnector\n",
    "import pandas as pd\n",
    "import json \n",
    "from medcat.cat import CAT\n",
    "\n",
    "# Helper for sending requests to neo\n",
    "neo = NeoConnector('bolt://localhost:7687/', user='neo4j')"
   ]
  },
  {
   "cell_type": "markdown",
   "id": "4365d19f",
   "metadata": {},
   "source": [
    "# Download data"
   ]
  },
  {
   "cell_type": "code",
   "execution_count": 113,
   "id": "f6f707dd",
   "metadata": {},
   "outputs": [
    {
     "name": "stdout",
     "output_type": "stream",
     "text": [
      "--2021-12-07 17:45:57--  https://medcat.rosalind.kcl.ac.uk/media/twds/neo/patients.csv\n",
      "Resolving medcat.rosalind.kcl.ac.uk (medcat.rosalind.kcl.ac.uk)... 193.61.202.225\n",
      "Connecting to medcat.rosalind.kcl.ac.uk (medcat.rosalind.kcl.ac.uk)|193.61.202.225|:443... connected.\n",
      "HTTP request sent, awaiting response... 200 OK\n",
      "Length: 3237 (3.2K) [text/csv]\n",
      "Saving to: ‘patients.csv.1’\n",
      "\n",
      "patients.csv.1      100%[===================>]   3.16K  --.-KB/s    in 0s      \n",
      "\n",
      "2021-12-07 17:45:57 (14.9 MB/s) - ‘patients.csv.1’ saved [3237/3237]\n",
      "\n",
      "--2021-12-07 17:45:57--  https://medcat.rosalind.kcl.ac.uk/media/twds/neo/documents.csv\n",
      "Resolving medcat.rosalind.kcl.ac.uk (medcat.rosalind.kcl.ac.uk)... 193.61.202.225\n",
      "Connecting to medcat.rosalind.kcl.ac.uk (medcat.rosalind.kcl.ac.uk)|193.61.202.225|:443... connected.\n",
      "HTTP request sent, awaiting response... 200 OK\n",
      "Length: 3590186 (3.4M) [text/csv]\n",
      "Saving to: ‘documents.csv.1’\n",
      "\n",
      "documents.csv.1     100%[===================>]   3.42M  14.8MB/s    in 0.2s    \n",
      "\n",
      "2021-12-07 17:45:57 (14.8 MB/s) - ‘documents.csv.1’ saved [3590186/3590186]\n",
      "\n",
      "--2021-12-07 17:45:58--  https://medcat.rosalind.kcl.ac.uk/media/medmen_wstatus_2021_oct.zip\n",
      "Resolving medcat.rosalind.kcl.ac.uk (medcat.rosalind.kcl.ac.uk)... 193.61.202.225\n",
      "Connecting to medcat.rosalind.kcl.ac.uk (medcat.rosalind.kcl.ac.uk)|193.61.202.225|:443... connected.\n",
      "HTTP request sent, awaiting response... 200 OK\n",
      "Length: 561947681 (536M) [application/zip]\n",
      "Saving to: ‘medmen_wstatus_2021_oct.zip.1’\n",
      "\n",
      "medmen_wstatus_2021 100%[===================>] 535.92M  24.3MB/s    in 22s     \n",
      "\n",
      "2021-12-07 17:46:20 (24.3 MB/s) - ‘medmen_wstatus_2021_oct.zip.1’ saved [561947681/561947681]\n",
      "\n"
     ]
    }
   ],
   "source": [
    "!wget https://medcat.rosalind.kcl.ac.uk/media/twds/neo/patients.csv\n",
    "!wget https://medcat.rosalind.kcl.ac.uk/media/twds/neo/documents.csv\n",
    "!wget https://medcat.rosalind.kcl.ac.uk/media/medmen_wstatus_2021_oct.zip"
   ]
  },
  {
   "cell_type": "markdown",
   "id": "796c70c9",
   "metadata": {},
   "source": [
    "# Annotate documents"
   ]
  },
  {
   "cell_type": "code",
   "execution_count": 71,
   "id": "c917968c",
   "metadata": {},
   "outputs": [],
   "source": [
    "df_docs = pd.read_csv('./documents.csv')\n",
    "# This would be a generator if we have a lot of docs\n",
    "data = [(k,v) for k,v in df_docs[['documentId', 'text']].values]"
   ]
  },
  {
   "cell_type": "code",
   "execution_count": 72,
   "id": "611a393d",
   "metadata": {},
   "outputs": [
    {
     "name": "stdout",
     "output_type": "stream",
     "text": [
      "Unziping the model pack and loading models.\n"
     ]
    },
    {
     "name": "stderr",
     "output_type": "stream",
     "text": [
      "Annotated until now: 0 docs; Current BS: 1088 docs; Elapsed time: 0.00 minutes\n"
     ]
    }
   ],
   "source": [
    "cat = CAT.load_model_pack('./medmen_wstatus_2021_oct.zip')\n",
    "docs = cat.multiprocessing(data, nproc=10)\n",
    "json.dump(docs, open(\"./annotations.json\", 'w'))"
   ]
  },
  {
   "cell_type": "markdown",
   "id": "8d142efa",
   "metadata": {},
   "source": [
    "# Create indexes"
   ]
  },
  {
   "cell_type": "code",
   "execution_count": 75,
   "id": "a8a1234a",
   "metadata": {},
   "outputs": [
    {
     "name": "stdout",
     "output_type": "stream",
     "text": [
      "[Schema.EquivalentSchemaRuleAlreadyExists] An equivalent index already exists, 'Index( id=3, name='patientId', type='GENERAL BTREE', schema=(:Patient {patientId}), indexProvider='native-btree-1.0' )'.\n",
      "[Schema.EquivalentSchemaRuleAlreadyExists] An equivalent index already exists, 'Index( id=4, name='conceptId', type='GENERAL BTREE', schema=(:Concept {conceptId}), indexProvider='native-btree-1.0' )'.\n",
      "[Schema.EquivalentSchemaRuleAlreadyExists] An equivalent index already exists, 'Index( id=5, name='documentId', type='GENERAL BTREE', schema=(:Document {documentId}), indexProvider='native-btree-1.0' )'.\n"
     ]
    }
   ],
   "source": [
    "# Indexes are pre-defined in the data_preparation helper\n",
    "for ind in get_index_queries():\n",
    "    try:\n",
    "        neo.execute(ind)\n",
    "    except Exception as e:\n",
    "        print(e)"
   ]
  },
  {
   "cell_type": "markdown",
   "id": "f1599726",
   "metadata": {},
   "source": [
    "# Import Patients"
   ]
  },
  {
   "cell_type": "code",
   "execution_count": 76,
   "id": "cbdd1c27",
   "metadata": {},
   "outputs": [],
   "source": [
    "df_pts = pd.read_csv('./patients.csv')\n",
    "q = create_patients_csv(df_pts, output_dir='/var/lib/neo4j/import/')\n",
    "# The created CSV has to be saved/copied into the /var/lib/neo4j/import, \n",
    "#otherwise the query execution below will not work. The folder by default\n",
    "#requires admin priviledges to write in it, easiest is set the output dir\n",
    "#to somewhere else and later copy with sudo. Otherwise you can change permissions on the\n",
    "#folder so that python can write into it."
   ]
  },
  {
   "cell_type": "code",
   "execution_count": 77,
   "id": "63c37ca7",
   "metadata": {},
   "outputs": [
    {
     "data": {
      "text/html": [
       "(No data)"
      ],
      "text/plain": [
       "(No data)"
      ]
     },
     "execution_count": 77,
     "metadata": {},
     "output_type": "execute_result"
    }
   ],
   "source": [
    "# Run the query for import\n",
    "neo.execute(q)"
   ]
  },
  {
   "cell_type": "markdown",
   "id": "8a08535f",
   "metadata": {},
   "source": [
    "# Import Concepts"
   ]
  },
  {
   "cell_type": "code",
   "execution_count": 78,
   "id": "c629ea7a",
   "metadata": {},
   "outputs": [],
   "source": [
    "data = [['conceptId', 'name', 'type']]\n",
    "cuis = set()\n",
    "for cui in cat.cdb.cui2names.keys(): # Use all concepts, always\n",
    "    cuis.add(cui)\n",
    "    type_ids = list(cat.cdb.cui2type_ids[cui])\n",
    "    type_id = type_ids[0] if len(type_ids) else 'unk'\n",
    "    t = str(cat.cdb.addl_info['type_id2name'].get(type_id, type_id))\n",
    "    data.append([str(cui), str(cat.cdb.get_name(cui)), t])\n",
    "df_concepts = pd.DataFrame(data[1:], columns=data[0])\n",
    "q = create_concepts_csv(df_concepts, output_dir='/var/lib/neo4j/import/')"
   ]
  },
  {
   "cell_type": "code",
   "execution_count": 79,
   "id": "07ee08ab",
   "metadata": {},
   "outputs": [
    {
     "data": {
      "text/html": [
       "(No data)"
      ],
      "text/plain": [
       "(No data)"
      ]
     },
     "execution_count": 79,
     "metadata": {},
     "output_type": "execute_result"
    }
   ],
   "source": [
    "neo.execute(q)"
   ]
  },
  {
   "cell_type": "markdown",
   "id": "1ee98758",
   "metadata": {},
   "source": [
    "# [IF USING SNOMED, SKIP FOR MEDMENTIONS] Import SNOMED ontology"
   ]
  },
  {
   "cell_type": "code",
   "execution_count": 50,
   "id": "f4853e32",
   "metadata": {},
   "outputs": [],
   "source": [
    "data = [['child', 'parent']]\n",
    "for parent, children in cat.cdb.addl_info['pt2ch'].items():\n",
    "    for child in children:\n",
    "        if child != parent:\n",
    "            data.append([child, parent])\n",
    "data = pd.DataFrame(data[1:], columns=data[0])"
   ]
  },
  {
   "cell_type": "code",
   "execution_count": 51,
   "id": "a126c0b6",
   "metadata": {},
   "outputs": [],
   "source": [
    "# The created CSV has to be saved/copied into the /var/lib/neo4j/import, \n",
    "#otherwise the query execution below will not work\n",
    "q = create_concept_ontology_csv(data, output_dir='/var/lib/neo4j/import/')"
   ]
  },
  {
   "cell_type": "code",
   "execution_count": 52,
   "id": "ff6450f2",
   "metadata": {},
   "outputs": [
    {
     "data": {
      "text/html": [
       "(No data)"
      ],
      "text/plain": [
       "(No data)"
      ]
     },
     "execution_count": 52,
     "metadata": {},
     "output_type": "execute_result"
    }
   ],
   "source": [
    "neo.execute(q)"
   ]
  },
  {
   "cell_type": "markdown",
   "id": "fd807e5e",
   "metadata": {},
   "source": [
    "# Import documents"
   ]
  },
  {
   "cell_type": "code",
   "execution_count": 80,
   "id": "0797bb61",
   "metadata": {
    "scrolled": true
   },
   "outputs": [],
   "source": [
    "df_docs = pd.read_csv('./documents.csv')\n",
    "q = create_documents_csv(df_docs, output_dir='/var/lib/neo4j/import/')"
   ]
  },
  {
   "cell_type": "code",
   "execution_count": 81,
   "id": "f20a5a23",
   "metadata": {},
   "outputs": [
    {
     "data": {
      "text/html": [
       "(No data)"
      ],
      "text/plain": [
       "(No data)"
      ]
     },
     "execution_count": 81,
     "metadata": {},
     "output_type": "execute_result"
    }
   ],
   "source": [
    "neo.execute(q)"
   ]
  },
  {
   "cell_type": "markdown",
   "id": "1ce4283c",
   "metadata": {},
   "source": [
    "# Make patient2document"
   ]
  },
  {
   "cell_type": "code",
   "execution_count": 82,
   "id": "f9bf2a37",
   "metadata": {},
   "outputs": [],
   "source": [
    "# The created CSV has to be saved/copied into the /var/lib/neo4j/import, \n",
    "#otherwise the query execution below will not work\n",
    "q = create_document2patient_csv(df_docs, output_dir='/var/lib/neo4j/import/')"
   ]
  },
  {
   "cell_type": "code",
   "execution_count": 83,
   "id": "4a9cbb54",
   "metadata": {},
   "outputs": [
    {
     "data": {
      "text/html": [
       "(No data)"
      ],
      "text/plain": [
       "(No data)"
      ]
     },
     "execution_count": 83,
     "metadata": {},
     "output_type": "execute_result"
    }
   ],
   "source": [
    "neo.execute(q)"
   ]
  },
  {
   "cell_type": "markdown",
   "id": "3e9a1903",
   "metadata": {},
   "source": [
    "# Import annotations"
   ]
  },
  {
   "cell_type": "code",
   "execution_count": 84,
   "id": "73dcefba",
   "metadata": {},
   "outputs": [],
   "source": [
    "doc2pt = {str(doc):pt for doc, pt in df_docs[['documentId', 'patientId']].values}\n",
    "doc2time = {str(int(doc)):pt for doc, pt in df_docs[['documentId', 'chartdate']].values}"
   ]
  },
  {
   "cell_type": "code",
   "execution_count": 88,
   "id": "6547e405",
   "metadata": {},
   "outputs": [],
   "source": [
    "docs = json.load(open('./annotations.json', 'r'))\n",
    "data = get_data_from_docs(docs, doc2pt, doc2time)\n",
    "data = pd.DataFrame(data[1:], columns=data[0])\n",
    "q = create_document2concept_csv(data, output_dir='/var/lib/neo4j/import/')"
   ]
  },
  {
   "cell_type": "code",
   "execution_count": 89,
   "id": "e3b59d62",
   "metadata": {},
   "outputs": [
    {
     "data": {
      "text/html": [
       "(No data)"
      ],
      "text/plain": [
       "(No data)"
      ]
     },
     "execution_count": 89,
     "metadata": {},
     "output_type": "execute_result"
    }
   ],
   "source": [
    "neo.execute(q)"
   ]
  },
  {
   "cell_type": "markdown",
   "id": "a5b1b6e6",
   "metadata": {},
   "source": [
    "# Queries"
   ]
  },
  {
   "cell_type": "code",
   "execution_count": 96,
   "id": "66bba04f",
   "metadata": {},
   "outputs": [],
   "source": [
    "# Return all patients that have sleep apnea and fever\n",
    "patients, q = neo.get_all_patients(concepts=['C0520679', 'C0015967'], limit=10, ignore_meta=True)"
   ]
  },
  {
   "cell_type": "code",
   "execution_count": 98,
   "id": "34d5bdd1",
   "metadata": {},
   "outputs": [
    {
     "name": "stdout",
     "output_type": "stream",
     "text": [
      "WITH ['C0520679','C0015967'] AS cs MATCH (c:Concept)<-[:HAS ]-(:Document)<-[:HAS]-(pt:Patient)\n",
      "            WHERE c.conceptId in cs\n",
      "            WITH pt, size(cs) as inputCnt, count(DISTINCT c) as cnt\n",
      "            WHERE cnt = inputCnt\n",
      "             RETURN pt LIMIT 10\n"
     ]
    }
   ],
   "source": [
    "# Print the query\n",
    "print(q)"
   ]
  },
  {
   "cell_type": "code",
   "execution_count": 99,
   "id": "afb6cee3",
   "metadata": {},
   "outputs": [
    {
     "data": {
      "text/plain": [
       "['1', '32', '281', '92', '295', '284', '133', '269', '166', '160']"
      ]
     },
     "execution_count": 99,
     "metadata": {},
     "output_type": "execute_result"
    }
   ],
   "source": [
    "patients"
   ]
  },
  {
   "cell_type": "code",
   "execution_count": 111,
   "id": "158be15f",
   "metadata": {},
   "outputs": [],
   "source": [
    "# Get all concepts from one patient\n",
    "stream, q = neo.get_all_concepts_from(patient_id='166', bucket_size_seconds=10**10)"
   ]
  },
  {
   "cell_type": "code",
   "execution_count": 112,
   "id": "194da216",
   "metadata": {},
   "outputs": [
    {
     "data": {
      "text/html": [
       "<div>\n",
       "<style scoped>\n",
       "    .dataframe tbody tr th:only-of-type {\n",
       "        vertical-align: middle;\n",
       "    }\n",
       "\n",
       "    .dataframe tbody tr th {\n",
       "        vertical-align: top;\n",
       "    }\n",
       "\n",
       "    .dataframe thead th {\n",
       "        text-align: right;\n",
       "    }\n",
       "</style>\n",
       "<table border=\"1\" class=\"dataframe\">\n",
       "  <thead>\n",
       "    <tr style=\"text-align: right;\">\n",
       "      <th></th>\n",
       "      <th>name</th>\n",
       "      <th>conceptId</th>\n",
       "      <th>type</th>\n",
       "      <th>documentId</th>\n",
       "      <th>start</th>\n",
       "      <th>end</th>\n",
       "      <th>contextSimilarity</th>\n",
       "      <th>timestamp</th>\n",
       "      <th>count</th>\n",
       "    </tr>\n",
       "  </thead>\n",
       "  <tbody>\n",
       "    <tr>\n",
       "      <th>0</th>\n",
       "      <td>Actual Positive Comfort</td>\n",
       "      <td>C2712134</td>\n",
       "      <td>Finding</td>\n",
       "      <td>1176</td>\n",
       "      <td>1388</td>\n",
       "      <td>1399</td>\n",
       "      <td>0.228076</td>\n",
       "      <td>3124224000</td>\n",
       "      <td>2</td>\n",
       "    </tr>\n",
       "    <tr>\n",
       "      <th>314</th>\n",
       "      <td>Male Circumcision</td>\n",
       "      <td>C0008819</td>\n",
       "      <td>Therapeutic or Preventive Procedure</td>\n",
       "      <td>1175</td>\n",
       "      <td>2654</td>\n",
       "      <td>2665</td>\n",
       "      <td>0.364103</td>\n",
       "      <td>3124224000</td>\n",
       "      <td>1</td>\n",
       "    </tr>\n",
       "    <tr>\n",
       "      <th>313</th>\n",
       "      <td>Complete</td>\n",
       "      <td>C0205197</td>\n",
       "      <td>Qualitative Concept</td>\n",
       "      <td>1175</td>\n",
       "      <td>3657</td>\n",
       "      <td>3665</td>\n",
       "      <td>0.520146</td>\n",
       "      <td>3124224000</td>\n",
       "      <td>1</td>\n",
       "    </tr>\n",
       "    <tr>\n",
       "      <th>312</th>\n",
       "      <td>Prostate-Specific Antigen</td>\n",
       "      <td>C0138741</td>\n",
       "      <td>Immunologic Factor</td>\n",
       "      <td>1175</td>\n",
       "      <td>3489</td>\n",
       "      <td>3514</td>\n",
       "      <td>0.443968</td>\n",
       "      <td>3124224000</td>\n",
       "      <td>5</td>\n",
       "    </tr>\n",
       "    <tr>\n",
       "      <th>311</th>\n",
       "      <td>Onset of (contextual qualifier)</td>\n",
       "      <td>C0332162</td>\n",
       "      <td>Qualitative Concept</td>\n",
       "      <td>1175</td>\n",
       "      <td>287</td>\n",
       "      <td>292</td>\n",
       "      <td>0.360686</td>\n",
       "      <td>3124224000</td>\n",
       "      <td>1</td>\n",
       "    </tr>\n",
       "    <tr>\n",
       "      <th>310</th>\n",
       "      <td>respiratory</td>\n",
       "      <td>C0521346</td>\n",
       "      <td>Functional Concept</td>\n",
       "      <td>1175</td>\n",
       "      <td>1499</td>\n",
       "      <td>1510</td>\n",
       "      <td>0.368566</td>\n",
       "      <td>3124224000</td>\n",
       "      <td>1</td>\n",
       "    </tr>\n",
       "    <tr>\n",
       "      <th>309</th>\n",
       "      <td>Signs and Symptoms</td>\n",
       "      <td>C0037088</td>\n",
       "      <td>Sign or Symptom</td>\n",
       "      <td>1175</td>\n",
       "      <td>152</td>\n",
       "      <td>170</td>\n",
       "      <td>1.000000</td>\n",
       "      <td>3124224000</td>\n",
       "      <td>2</td>\n",
       "    </tr>\n",
       "    <tr>\n",
       "      <th>308</th>\n",
       "      <td>abdominal organ</td>\n",
       "      <td>C0446633</td>\n",
       "      <td>Body Part, Organ, or Organ Component</td>\n",
       "      <td>1175</td>\n",
       "      <td>1929</td>\n",
       "      <td>1945</td>\n",
       "      <td>1.000000</td>\n",
       "      <td>3124224000</td>\n",
       "      <td>1</td>\n",
       "    </tr>\n",
       "    <tr>\n",
       "      <th>307</th>\n",
       "      <td>Finding</td>\n",
       "      <td>C0243095</td>\n",
       "      <td>Finding</td>\n",
       "      <td>1175</td>\n",
       "      <td>3575</td>\n",
       "      <td>3583</td>\n",
       "      <td>0.563521</td>\n",
       "      <td>3124224000</td>\n",
       "      <td>3</td>\n",
       "    </tr>\n",
       "    <tr>\n",
       "      <th>306</th>\n",
       "      <td>Respiratory Diaphragm</td>\n",
       "      <td>C0011980</td>\n",
       "      <td>Body Part, Organ, or Organ Component</td>\n",
       "      <td>1175</td>\n",
       "      <td>1631</td>\n",
       "      <td>1644</td>\n",
       "      <td>0.202807</td>\n",
       "      <td>3124224000</td>\n",
       "      <td>1</td>\n",
       "    </tr>\n",
       "    <tr>\n",
       "      <th>305</th>\n",
       "      <td>Appendectomy</td>\n",
       "      <td>C0003611</td>\n",
       "      <td>Therapeutic or Preventive Procedure</td>\n",
       "      <td>1175</td>\n",
       "      <td>767</td>\n",
       "      <td>779</td>\n",
       "      <td>0.378057</td>\n",
       "      <td>3124224000</td>\n",
       "      <td>1</td>\n",
       "    </tr>\n",
       "    <tr>\n",
       "      <th>304</th>\n",
       "      <td>Condyloma</td>\n",
       "      <td>C0302180</td>\n",
       "      <td>Disease or Syndrome</td>\n",
       "      <td>1175</td>\n",
       "      <td>2692</td>\n",
       "      <td>2703</td>\n",
       "      <td>1.000000</td>\n",
       "      <td>3124224000</td>\n",
       "      <td>1</td>\n",
       "    </tr>\n",
       "    <tr>\n",
       "      <th>315</th>\n",
       "      <td>Impression</td>\n",
       "      <td>C1998467</td>\n",
       "      <td>Qualitative Concept</td>\n",
       "      <td>1175</td>\n",
       "      <td>3279</td>\n",
       "      <td>3289</td>\n",
       "      <td>0.279481</td>\n",
       "      <td>3124224000</td>\n",
       "      <td>1</td>\n",
       "    </tr>\n",
       "    <tr>\n",
       "      <th>303</th>\n",
       "      <td>Evaluation</td>\n",
       "      <td>C0220825</td>\n",
       "      <td>Health Care Activity</td>\n",
       "      <td>1175</td>\n",
       "      <td>3602</td>\n",
       "      <td>3612</td>\n",
       "      <td>0.908850</td>\n",
       "      <td>3124224000</td>\n",
       "      <td>2</td>\n",
       "    </tr>\n",
       "    <tr>\n",
       "      <th>301</th>\n",
       "      <td>countries developed</td>\n",
       "      <td>C0282613</td>\n",
       "      <td>Qualitative Concept</td>\n",
       "      <td>1175</td>\n",
       "      <td>1275</td>\n",
       "      <td>1284</td>\n",
       "      <td>0.260492</td>\n",
       "      <td>3124224000</td>\n",
       "      <td>1</td>\n",
       "    </tr>\n",
       "    <tr>\n",
       "      <th>300</th>\n",
       "      <td>Biospecimen</td>\n",
       "      <td>C2347026</td>\n",
       "      <td>Conceptual Entity</td>\n",
       "      <td>1175</td>\n",
       "      <td>3466</td>\n",
       "      <td>3474</td>\n",
       "      <td>0.483050</td>\n",
       "      <td>3124224000</td>\n",
       "      <td>1</td>\n",
       "    </tr>\n",
       "    <tr>\n",
       "      <th>299</th>\n",
       "      <td>joints tender</td>\n",
       "      <td>C0240094</td>\n",
       "      <td>Sign or Symptom</td>\n",
       "      <td>1175</td>\n",
       "      <td>2126</td>\n",
       "      <td>2136</td>\n",
       "      <td>0.394463</td>\n",
       "      <td>3124224000</td>\n",
       "      <td>1</td>\n",
       "    </tr>\n",
       "    <tr>\n",
       "      <th>298</th>\n",
       "      <td>Indication of (contextual qualifier)</td>\n",
       "      <td>C0392360</td>\n",
       "      <td>Idea or Concept</td>\n",
       "      <td>1179</td>\n",
       "      <td>2520</td>\n",
       "      <td>2526</td>\n",
       "      <td>0.270778</td>\n",
       "      <td>3124224000</td>\n",
       "      <td>1</td>\n",
       "    </tr>\n",
       "    <tr>\n",
       "      <th>297</th>\n",
       "      <td>game</td>\n",
       "      <td>C0150593</td>\n",
       "      <td>Daily or Recreational Activity</td>\n",
       "      <td>1179</td>\n",
       "      <td>245</td>\n",
       "      <td>250</td>\n",
       "      <td>0.298774</td>\n",
       "      <td>3124224000</td>\n",
       "      <td>1</td>\n",
       "    </tr>\n",
       "    <tr>\n",
       "      <th>296</th>\n",
       "      <td>nexium</td>\n",
       "      <td>C0939400</td>\n",
       "      <td>Pharmacologic Substance</td>\n",
       "      <td>1179</td>\n",
       "      <td>1460</td>\n",
       "      <td>1466</td>\n",
       "      <td>1.000000</td>\n",
       "      <td>3124224000</td>\n",
       "      <td>1</td>\n",
       "    </tr>\n",
       "  </tbody>\n",
       "</table>\n",
       "</div>"
      ],
      "text/plain": [
       "                                     name conceptId  \\\n",
       "0                 Actual Positive Comfort  C2712134   \n",
       "314                     Male Circumcision  C0008819   \n",
       "313                              Complete  C0205197   \n",
       "312             Prostate-Specific Antigen  C0138741   \n",
       "311       Onset of (contextual qualifier)  C0332162   \n",
       "310                           respiratory  C0521346   \n",
       "309                    Signs and Symptoms  C0037088   \n",
       "308                       abdominal organ  C0446633   \n",
       "307                               Finding  C0243095   \n",
       "306                 Respiratory Diaphragm  C0011980   \n",
       "305                          Appendectomy  C0003611   \n",
       "304                             Condyloma  C0302180   \n",
       "315                            Impression  C1998467   \n",
       "303                            Evaluation  C0220825   \n",
       "301                   countries developed  C0282613   \n",
       "300                           Biospecimen  C2347026   \n",
       "299                         joints tender  C0240094   \n",
       "298  Indication of (contextual qualifier)  C0392360   \n",
       "297                                  game  C0150593   \n",
       "296                                nexium  C0939400   \n",
       "\n",
       "                                     type documentId  start   end  \\\n",
       "0                                 Finding       1176   1388  1399   \n",
       "314   Therapeutic or Preventive Procedure       1175   2654  2665   \n",
       "313                   Qualitative Concept       1175   3657  3665   \n",
       "312                    Immunologic Factor       1175   3489  3514   \n",
       "311                   Qualitative Concept       1175    287   292   \n",
       "310                    Functional Concept       1175   1499  1510   \n",
       "309                       Sign or Symptom       1175    152   170   \n",
       "308  Body Part, Organ, or Organ Component       1175   1929  1945   \n",
       "307                               Finding       1175   3575  3583   \n",
       "306  Body Part, Organ, or Organ Component       1175   1631  1644   \n",
       "305   Therapeutic or Preventive Procedure       1175    767   779   \n",
       "304                   Disease or Syndrome       1175   2692  2703   \n",
       "315                   Qualitative Concept       1175   3279  3289   \n",
       "303                  Health Care Activity       1175   3602  3612   \n",
       "301                   Qualitative Concept       1175   1275  1284   \n",
       "300                     Conceptual Entity       1175   3466  3474   \n",
       "299                       Sign or Symptom       1175   2126  2136   \n",
       "298                       Idea or Concept       1179   2520  2526   \n",
       "297        Daily or Recreational Activity       1179    245   250   \n",
       "296               Pharmacologic Substance       1179   1460  1466   \n",
       "\n",
       "     contextSimilarity   timestamp  count  \n",
       "0             0.228076  3124224000      2  \n",
       "314           0.364103  3124224000      1  \n",
       "313           0.520146  3124224000      1  \n",
       "312           0.443968  3124224000      5  \n",
       "311           0.360686  3124224000      1  \n",
       "310           0.368566  3124224000      1  \n",
       "309           1.000000  3124224000      2  \n",
       "308           1.000000  3124224000      1  \n",
       "307           0.563521  3124224000      3  \n",
       "306           0.202807  3124224000      1  \n",
       "305           0.378057  3124224000      1  \n",
       "304           1.000000  3124224000      1  \n",
       "315           0.279481  3124224000      1  \n",
       "303           0.908850  3124224000      2  \n",
       "301           0.260492  3124224000      1  \n",
       "300           0.483050  3124224000      1  \n",
       "299           0.394463  3124224000      1  \n",
       "298           0.270778  3124224000      1  \n",
       "297           0.298774  3124224000      1  \n",
       "296           1.000000  3124224000      1  "
      ]
     },
     "execution_count": 112,
     "metadata": {},
     "output_type": "execute_result"
    }
   ],
   "source": [
    "entities_df = pd.DataFrame(stream['entities'])\n",
    "entities_df.sort_values(by='timestamp').head(n=20)"
   ]
  }
 ],
 "metadata": {
  "kernelspec": {
   "display_name": "Python 3 (ipykernel)",
   "language": "python",
   "name": "python3"
  },
  "language_info": {
   "codemirror_mode": {
    "name": "ipython",
    "version": 3
   },
   "file_extension": ".py",
   "mimetype": "text/x-python",
   "name": "python",
   "nbconvert_exporter": "python",
   "pygments_lexer": "ipython3",
   "version": "3.8.0"
  }
 },
 "nbformat": 4,
 "nbformat_minor": 5
}
