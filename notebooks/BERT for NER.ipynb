{
 "cells": [
  {
   "cell_type": "code",
   "execution_count": null,
   "id": "f55761b7",
   "metadata": {},
   "outputs": [],
   "source": [
    "BASE_PATH = '/home/wish/'"
   ]
  },
  {
   "cell_type": "code",
   "execution_count": null,
   "id": "690019ab",
   "metadata": {},
   "outputs": [],
   "source": [
    "import sys\n",
    "sys.path.insert(0, BASE_PATH + \"projects/MedCAT/\")\n",
    "\n",
    "%load_ext autoreload\n",
    "%autoreload 2"
   ]
  },
  {
   "cell_type": "code",
   "execution_count": null,
   "id": "291fb8c7",
   "metadata": {},
   "outputs": [],
   "source": [
    "import os\n",
    "os.environ[\"WANDB_DISABLED\"] = \"true\"\n",
    "os.environ[\"TOKENIZERS_PARALLELISM\"] = \"false\""
   ]
  },
  {
   "cell_type": "code",
   "execution_count": null,
   "id": "6dda90d7",
   "metadata": {},
   "outputs": [],
   "source": [
    "import json\n",
    "import pandas as pd\n",
    "import numpy as np\n",
    "import os\n",
    "\n",
    "import datasets\n",
    "from transformers import AutoTokenizer, AutoModelForTokenClassification, Trainer, TrainingArguments\n",
    "\n",
    "from medcat.datasets import medcat_ner\n",
    "from medcat.datasets.tokenizer_ner import TokenizerNER\n",
    "from medcat.datasets.data_collator import CollateAndPadNER\n",
    "\n",
    "from medcat.cdb import CDB\n",
    "from medcat.vocab import Vocab\n",
    "from medcat.cat import CAT"
   ]
  },
  {
   "cell_type": "code",
   "execution_count": null,
   "id": "f7b50e3d",
   "metadata": {},
   "outputs": [],
   "source": [
    "DATA_PATH = BASE_PATH + \"data/medmentions/medmentions.json\""
   ]
  },
  {
   "cell_type": "code",
   "execution_count": null,
   "id": "758ba021",
   "metadata": {},
   "outputs": [],
   "source": [
    "data = json.load(open(DATA_PATH))"
   ]
  },
  {
   "cell_type": "code",
   "execution_count": null,
   "id": "2ddd7e83",
   "metadata": {},
   "outputs": [],
   "source": [
    "cnts = {}\n",
    "for p in data['projects']:\n",
    "    for d in p['documents']:\n",
    "        for a in d['annotations']:\n",
    "            cnts[a['cui']] = cnts.get(a['cui'], 0) + 1"
   ]
  },
  {
   "cell_type": "code",
   "execution_count": null,
   "id": "31cca641",
   "metadata": {
    "scrolled": true
   },
   "outputs": [],
   "source": [
    "cnts"
   ]
  },
  {
   "cell_type": "code",
   "execution_count": null,
   "id": "503432b9",
   "metadata": {
    "scrolled": true
   },
   "outputs": [],
   "source": [
    "# Get the CDB (If you do not have the mimic CDB, please use the MedMentions available in the medcat repository)\n",
    "#cdb = CDB.load(BASE_PATH + \"data/models/cdb_mimic_md_21-April-2021.dat\")\n",
    "cdb = CDB.load(\"/home/wish/data/medcat_paper/cdb_mimic.dat\")"
   ]
  },
  {
   "cell_type": "code",
   "execution_count": null,
   "id": "298065d0",
   "metadata": {},
   "outputs": [],
   "source": [
    "cdb.config.general['spacy_model'] = 'en_core_sci_md'"
   ]
  },
  {
   "cell_type": "code",
   "execution_count": null,
   "id": "711d1866",
   "metadata": {},
   "outputs": [],
   "source": [
    "# Get the vocab\n",
    "vocab = Vocab.load(BASE_PATH + \"data/vocabs/vocab.dat\")"
   ]
  },
  {
   "cell_type": "code",
   "execution_count": null,
   "id": "59a149ab",
   "metadata": {
    "scrolled": true
   },
   "outputs": [],
   "source": [
    "cdb.config.ner['upper_case_limit_len'] = 2\n",
    "cat = CAT(cdb=cdb, config=cdb.config, vocab=vocab)"
   ]
  },
  {
   "cell_type": "markdown",
   "id": "17427108",
   "metadata": {},
   "source": [
    "### Subset to frequent concepts - for testing"
   ]
  },
  {
   "cell_type": "code",
   "execution_count": null,
   "id": "0de855fb",
   "metadata": {},
   "outputs": [],
   "source": [
    "MIN_FREQ = 300\n",
    "for p in data['projects']:\n",
    "    for d in p['documents']:\n",
    "        anns = []\n",
    "        for a in d['annotations']:\n",
    "            if cnts[a['cui']] > MIN_FREQ:\n",
    "                anns.append(a)\n",
    "        d['annotations'] = anns"
   ]
  },
  {
   "cell_type": "code",
   "execution_count": null,
   "id": "873db9fe",
   "metadata": {},
   "outputs": [],
   "source": [
    "DATA_PATH = BASE_PATH + \"data/medmentions/medmentions_only_above_300.json\"\n",
    "json.dump(data, open(DATA_PATH, 'w'))"
   ]
  },
  {
   "cell_type": "code",
   "execution_count": null,
   "id": "85f92838",
   "metadata": {
    "scrolled": true
   },
   "outputs": [],
   "source": [
    "dataset = datasets.load_dataset(os.path.abspath(medcat_ner.__file__), \n",
    "                                data_files=DATA_PATH, \n",
    "                                split=datasets.Split.TRAIN,\n",
    "                                cache_dir='/tmp/')"
   ]
  },
  {
   "cell_type": "code",
   "execution_count": null,
   "id": "9a03e40c",
   "metadata": {},
   "outputs": [],
   "source": [
    "dataset"
   ]
  },
  {
   "cell_type": "code",
   "execution_count": null,
   "id": "736f8c2c",
   "metadata": {},
   "outputs": [],
   "source": [
    "hf_tokenizer = AutoTokenizer.from_pretrained(\"emilyalsentzer/Bio_ClinicalBERT\")\n",
    "id2type = {}\n",
    "for i in range(hf_tokenizer.vocab_size):\n",
    "    id2type[i] = 'sub' if hf_tokenizer.convert_ids_to_tokens(i).startswith(\"##\") else 'start'\n",
    "tokenizer = TokenizerNER(hf_tokenizer, id2type=id2type)"
   ]
  },
  {
   "cell_type": "code",
   "execution_count": null,
   "id": "61885c20",
   "metadata": {},
   "outputs": [],
   "source": [
    "encoded_dataset = dataset.map(\n",
    "        lambda examples: tokenizer.encode(examples, ignore_subwords=True),\n",
    "        batched=True,\n",
    "        remove_columns=['ent_cuis', 'ent_ends', 'ent_starts', 'text'])"
   ]
  },
  {
   "cell_type": "code",
   "execution_count": null,
   "id": "a940eb4c",
   "metadata": {},
   "outputs": [],
   "source": [
    "encoded_dataset"
   ]
  },
  {
   "cell_type": "code",
   "execution_count": null,
   "id": "0baedbf4",
   "metadata": {},
   "outputs": [],
   "source": [
    "model = AutoModelForTokenClassification.from_pretrained(\"emilyalsentzer/Bio_ClinicalBERT\", num_labels=len(tokenizer.label_map))"
   ]
  },
  {
   "cell_type": "code",
   "execution_count": null,
   "id": "c29bf681",
   "metadata": {},
   "outputs": [],
   "source": [
    "encoded_dataset = encoded_dataset.train_test_split(test_size = 0.2)"
   ]
  },
  {
   "cell_type": "code",
   "execution_count": null,
   "id": "3987164a",
   "metadata": {},
   "outputs": [],
   "source": [
    "collate_fn = CollateAndPadNER(hf_tokenizer.pad_token_id)"
   ]
  },
  {
   "cell_type": "code",
   "execution_count": null,
   "id": "11423ebc",
   "metadata": {},
   "outputs": [],
   "source": [
    "training_args = TrainingArguments(\n",
    "    output_dir='./results',          # output directory\n",
    "    num_train_epochs=10,              # total number of training epochs\n",
    "    per_device_train_batch_size=4,  # batch size per device during training\n",
    "    per_device_eval_batch_size=4,   # batch size for evaluation\n",
    "    weight_decay=0.1431478776404838,               # strength of weight decay\n",
    "    logging_dir='./logs',            # directory for storing logs\n",
    "    logging_steps=200,\n",
    "    eval_steps=500,\n",
    "    warmup_steps=15,\n",
    "    learning_rate= 4.4670352057797207e-05,\n",
    "    eval_accumulation_steps=1,\n",
    "    do_eval=True,\n",
    "    evaluation_strategy='steps',\n",
    "    load_best_model_at_end=True,\n",
    ")"
   ]
  },
  {
   "cell_type": "code",
   "execution_count": null,
   "id": "a8bc2c7e",
   "metadata": {},
   "outputs": [],
   "source": [
    "from sklearn.metrics import classification_report\n",
    "def metrics(p):\n",
    "    preds = np.argmax(p.predictions, axis=2)\n",
    "    # Ignore predictions where label == -100, padding\n",
    "    preds[np.where(p.label_ids == -100)] = -100\n",
    "    print(classification_report(np.reshape(p.label_ids, -1), np.reshape(preds, -1)))\n",
    "    return {'none': 0}"
   ]
  },
  {
   "cell_type": "code",
   "execution_count": null,
   "id": "27d76e21",
   "metadata": {
    "scrolled": true
   },
   "outputs": [],
   "source": [
    "trainer = Trainer(\n",
    "    model=model,                         \n",
    "    args=training_args,                 \n",
    "    train_dataset=encoded_dataset['train'],       \n",
    "    eval_dataset=encoded_dataset['test'],     \n",
    "    compute_metrics=metrics,\n",
    "    data_collator=collate_fn,\n",
    "    tokenizer=None\n",
    ")"
   ]
  },
  {
   "cell_type": "code",
   "execution_count": null,
   "id": "e4034e77",
   "metadata": {
    "scrolled": true
   },
   "outputs": [],
   "source": [
    "trainer.train()"
   ]
  },
  {
   "cell_type": "code",
   "execution_count": null,
   "id": "722217e7",
   "metadata": {
    "scrolled": true
   },
   "outputs": [],
   "source": [
    "p = trainer.predict(encoded_dataset['test'])"
   ]
  },
  {
   "cell_type": "code",
   "execution_count": null,
   "id": "6cfe7d9f",
   "metadata": {},
   "outputs": [],
   "source": [
    "preds = np.argmax(p.predictions, axis=2)"
   ]
  },
  {
   "cell_type": "code",
   "execution_count": null,
   "id": "6cdd0247",
   "metadata": {
    "scrolled": true
   },
   "outputs": [],
   "source": [
    "# Ignore predictions where label == -100, padding\n",
    "preds[np.where(p.label_ids == -100)] = -100\n",
    "report = classification_report(np.reshape(p.label_ids, -1), np.reshape(preds, -1), output_dict=True)"
   ]
  },
  {
   "cell_type": "code",
   "execution_count": null,
   "id": "18b9d4b2",
   "metadata": {
    "scrolled": true
   },
   "outputs": [],
   "source": [
    "r_label_map = {v:k for k,v in tokenizer.label_map.items()}\n",
    "for key in report.keys():\n",
    "    if key.isdigit():\n",
    "        cui = r_label_map.get(int(key), key)\n",
    "    else:\n",
    "        cui = key\n",
    "    \n",
    "    name = cdb.get_name(cui)\n",
    "    print(name)\n",
    "    print(report[key])\n",
    "    print()"
   ]
  },
  {
   "cell_type": "markdown",
   "id": "88c402f3",
   "metadata": {},
   "source": [
    "# Anonymise a document"
   ]
  },
  {
   "cell_type": "code",
   "execution_count": null,
   "id": "6dcf1b7c",
   "metadata": {},
   "outputs": [],
   "source": [
    "from medcat.utils.deid import deid_document"
   ]
  },
  {
   "cell_type": "code",
   "execution_count": null,
   "id": "9a3fa4da",
   "metadata": {},
   "outputs": [],
   "source": [
    "text = dataset[12]['text']"
   ]
  },
  {
   "cell_type": "code",
   "execution_count": null,
   "id": "f5acb89b",
   "metadata": {},
   "outputs": [],
   "source": [
    "new_text = deid_document(text, tokenizer, model, verbose=True)"
   ]
  },
  {
   "cell_type": "code",
   "execution_count": null,
   "id": "4493d3fa",
   "metadata": {},
   "outputs": [],
   "source": [
    "new_text"
   ]
  },
  {
   "cell_type": "markdown",
   "id": "64f0d4ed",
   "metadata": {},
   "source": [
    "## Test MedCAT on the same data"
   ]
  },
  {
   "cell_type": "code",
   "execution_count": null,
   "id": "f974da93",
   "metadata": {
    "scrolled": true
   },
   "outputs": [],
   "source": [
    "data = json.load(open(DATA_PATH))"
   ]
  },
  {
   "cell_type": "code",
   "execution_count": null,
   "id": "24f7da16",
   "metadata": {},
   "outputs": [],
   "source": [
    "cnts = {}\n",
    "for p in data['projects']:\n",
    "    for d in p['documents']:\n",
    "        for a in d['annotations']:\n",
    "            cnts[a['cui']] = cnts.get(a['cui'], 0) + 1\n",
    "cnts"
   ]
  },
  {
   "cell_type": "code",
   "execution_count": null,
   "id": "d8a68b18",
   "metadata": {},
   "outputs": [],
   "source": [
    "cat.config.linking['filters']['cuis'] = set(cnts.keys())\n",
    "cat.config.linking['similarity_threshold'] = 0.25"
   ]
  },
  {
   "cell_type": "code",
   "execution_count": null,
   "id": "ae5d4142",
   "metadata": {
    "scrolled": true
   },
   "outputs": [],
   "source": [
    "# Print stats before training\n",
    "fp, fn, tp, p, r, f1, cui_counts, examples = cat._print_stats(data)"
   ]
  },
  {
   "cell_type": "code",
   "execution_count": null,
   "id": "5dd7c1be",
   "metadata": {},
   "outputs": [],
   "source": [
    "np.average(list(f1.values()))"
   ]
  },
  {
   "cell_type": "code",
   "execution_count": null,
   "id": "d01cc955",
   "metadata": {
    "scrolled": true
   },
   "outputs": [],
   "source": [
    "np.average(list(p.values()))"
   ]
  },
  {
   "cell_type": "code",
   "execution_count": null,
   "id": "493d9b4c",
   "metadata": {},
   "outputs": [],
   "source": [
    "np.average(list(r.values()))"
   ]
  },
  {
   "cell_type": "code",
   "execution_count": null,
   "id": "a417c6d7",
   "metadata": {
    "scrolled": true
   },
   "outputs": [],
   "source": [
    "fp, fn, tp, p, r, f1, cui_counts, examples = cat.train_supervised(data_path=DATA_PATH, print_stats=1, nepochs=5, test_size=0.2, devalue_others=True,\n",
    "                         train_from_false_positives=True)"
   ]
  },
  {
   "cell_type": "code",
   "execution_count": null,
   "id": "da0ea098",
   "metadata": {},
   "outputs": [],
   "source": [
    "np.average(list(f1.values()))"
   ]
  },
  {
   "cell_type": "code",
   "execution_count": null,
   "id": "0294be93",
   "metadata": {},
   "outputs": [],
   "source": [
    "np.average(list(p.values()))"
   ]
  },
  {
   "cell_type": "code",
   "execution_count": null,
   "id": "feb872a6",
   "metadata": {},
   "outputs": [],
   "source": [
    "np.average(list(r.values()))"
   ]
  }
 ],
 "metadata": {
  "kernelspec": {
   "display_name": "Python 3 (ipykernel)",
   "language": "python",
   "name": "python3"
  },
  "language_info": {
   "codemirror_mode": {
    "name": "ipython",
    "version": 3
   },
   "file_extension": ".py",
   "mimetype": "text/x-python",
   "name": "python",
   "nbconvert_exporter": "python",
   "pygments_lexer": "ipython3",
   "version": "3.8.0"
  }
 },
 "nbformat": 4,
 "nbformat_minor": 5
}
