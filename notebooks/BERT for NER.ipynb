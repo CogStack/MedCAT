{
 "cells": [
  {
   "cell_type": "code",
   "execution_count": 1,
   "id": "f55761b7",
   "metadata": {},
   "outputs": [],
   "source": [
    "BASE_PATH = '/home/wish/'"
   ]
  },
  {
   "cell_type": "code",
   "execution_count": 2,
   "id": "690019ab",
   "metadata": {},
   "outputs": [],
   "source": [
    "import sys\n",
    "sys.path.insert(0, BASE_PATH + \"projects/MedCAT/\")\n",
    "\n",
    "%load_ext autoreload\n",
    "%autoreload 2"
   ]
  },
  {
   "cell_type": "code",
   "execution_count": 3,
   "id": "6dda90d7",
   "metadata": {},
   "outputs": [],
   "source": [
    "import json\n",
    "import pandas as pd\n",
    "import numpy as np\n",
    "import os\n",
    "\n",
    "import datasets\n",
    "from transformers import AutoTokenizer, AutoModelForTokenClassification, Trainer, TrainingArguments\n",
    "\n",
    "from medcat.datasets import medcat_ner\n",
    "from medcat.datasets.tokenizer_ner import TokenizerNER\n",
    "from medcat.datasets.data_collator import CollateAndPadNER\n",
    "\n",
    "from medcat.cdb import CDB\n",
    "from medcat.vocab import Vocab\n",
    "from medcat.cat import CAT"
   ]
  },
  {
   "cell_type": "code",
   "execution_count": 41,
   "id": "f7b50e3d",
   "metadata": {},
   "outputs": [],
   "source": [
    "DATA_PATH = BASE_PATH + \"data/medmentions/medmentions.json\""
   ]
  },
  {
   "cell_type": "code",
   "execution_count": 42,
   "id": "758ba021",
   "metadata": {},
   "outputs": [],
   "source": [
    "data = json.load(open(DATA_PATH))"
   ]
  },
  {
   "cell_type": "code",
   "execution_count": 46,
   "id": "2ddd7e83",
   "metadata": {},
   "outputs": [],
   "source": [
    "cnts = {}\n",
    "for p in data['projects']:\n",
    "    for d in p['documents']:\n",
    "        for a in d['annotations']:\n",
    "            cnts[a['cui']] = cnts.get(a['cui'], 0) + 1"
   ]
  },
  {
   "cell_type": "code",
   "execution_count": 47,
   "id": "31cca641",
   "metadata": {
    "scrolled": true
   },
   "outputs": [
    {
     "data": {
      "text/plain": [
       "{'C0030705': 5897,\n",
       " 'C2603343': 2140,\n",
       " 'C0441889': 1041,\n",
       " 'C0936012': 1192,\n",
       " 'C1511726': 1001,\n",
       " 'C1274040': 1044,\n",
       " 'C0332281': 1300,\n",
       " 'C0243095': 1925,\n",
       " 'C0441833': 1203,\n",
       " 'C0017337': 1032,\n",
       " 'C0087111': 1662,\n",
       " 'C0392762': 1236,\n",
       " 'C0205556': 1248}"
      ]
     },
     "execution_count": 47,
     "metadata": {},
     "output_type": "execute_result"
    }
   ],
   "source": [
    "cnts"
   ]
  },
  {
   "cell_type": "code",
   "execution_count": 16,
   "id": "503432b9",
   "metadata": {
    "scrolled": true
   },
   "outputs": [],
   "source": [
    "# Get the CDB (If you do not have the mimic CDB, please use the MedMentions available in the medcat repository)\n",
    "#cdb = CDB.load(BASE_PATH + \"data/models/cdb_mimic_md_21-April-2021.dat\")\n",
    "cdb = CDB.load(BASE_PATH + \"data/medcat_paper/cdb_pubmed_unsupervised.dat\")"
   ]
  },
  {
   "cell_type": "code",
   "execution_count": 17,
   "id": "711d1866",
   "metadata": {},
   "outputs": [],
   "source": [
    "# Get the vocab\n",
    "vocab = Vocab.load(BASE_PATH + \"data/vocabs/vocab.dat\")"
   ]
  },
  {
   "cell_type": "code",
   "execution_count": 18,
   "id": "59a149ab",
   "metadata": {},
   "outputs": [],
   "source": [
    "cdb.config.ner['upper_case_limit_len'] = 2\n",
    "cat = CAT(cdb=cdb, config=cdb.config, vocab=vocab)"
   ]
  },
  {
   "cell_type": "markdown",
   "id": "17427108",
   "metadata": {},
   "source": [
    "### Subset to frequent concepts - for testing"
   ]
  },
  {
   "cell_type": "code",
   "execution_count": 44,
   "id": "0de855fb",
   "metadata": {},
   "outputs": [],
   "source": [
    "MIN_FREQ = 1000\n",
    "for p in data['projects']:\n",
    "    for d in p['documents']:\n",
    "        anns = []\n",
    "        for a in d['annotations']:\n",
    "            if cnts[a['cui']] > MIN_FREQ:\n",
    "                anns.append(a)\n",
    "        d['annotations'] = anns"
   ]
  },
  {
   "cell_type": "code",
   "execution_count": 48,
   "id": "873db9fe",
   "metadata": {},
   "outputs": [],
   "source": [
    "DATA_PATH = BASE_PATH + \"data/medmentions/medmentions_only_above_300.json\"\n",
    "json.dump(data, open(DATA_PATH, 'w'))"
   ]
  },
  {
   "cell_type": "code",
   "execution_count": 49,
   "id": "85f92838",
   "metadata": {
    "scrolled": true
   },
   "outputs": [
    {
     "name": "stderr",
     "output_type": "stream",
     "text": [
      "Using custom data configuration default-825e1537563bb329\n"
     ]
    },
    {
     "name": "stdout",
     "output_type": "stream",
     "text": [
      "Downloading and preparing dataset med_catner/default (download: Unknown size, generated: Unknown size, post-processed: Unknown size, total: Unknown size) to /tmp/med_catner/default-825e1537563bb329/0.0.0/59a4c7ba592923c039fe649a9f8acd4b10c0ef79e1a1551554b7744ce009ad57...\n"
     ]
    },
    {
     "data": {
      "application/vnd.jupyter.widget-view+json": {
       "model_id": "",
       "version_major": 2,
       "version_minor": 0
      },
      "text/plain": [
       "HBox(children=(FloatProgress(value=1.0, bar_style='info', layout=Layout(width='20px'), max=1.0), HTML(value=''…"
      ]
     },
     "metadata": {},
     "output_type": "display_data"
    },
    {
     "name": "stdout",
     "output_type": "stream",
     "text": [
      "Dataset med_catner downloaded and prepared to /tmp/med_catner/default-825e1537563bb329/0.0.0/59a4c7ba592923c039fe649a9f8acd4b10c0ef79e1a1551554b7744ce009ad57. Subsequent calls will reuse this data.\n"
     ]
    }
   ],
   "source": [
    "dataset = datasets.load_dataset(os.path.abspath(medcat_ner.__file__), \n",
    "                                data_files=DATA_PATH, \n",
    "                                split=datasets.Split.TRAIN,\n",
    "                                cache_dir='/tmp/')"
   ]
  },
  {
   "cell_type": "code",
   "execution_count": 50,
   "id": "9a03e40c",
   "metadata": {},
   "outputs": [
    {
     "data": {
      "text/plain": [
       "Dataset({\n",
       "    features: ['id', 'text', 'ent_starts', 'ent_ends', 'ent_cuis'],\n",
       "    num_rows: 4392\n",
       "})"
      ]
     },
     "execution_count": 50,
     "metadata": {},
     "output_type": "execute_result"
    }
   ],
   "source": [
    "dataset"
   ]
  },
  {
   "cell_type": "code",
   "execution_count": 51,
   "id": "736f8c2c",
   "metadata": {},
   "outputs": [],
   "source": [
    "hf_tokenizer = AutoTokenizer.from_pretrained(\"emilyalsentzer/Bio_ClinicalBERT\")\n",
    "id2type = {}\n",
    "for i in range(hf_tokenizer.vocab_size):\n",
    "    id2type[i] = 'sub' if hf_tokenizer.convert_ids_to_tokens(i).startswith(\"##\") else 'start'\n",
    "tokenizer = TokenizerNER(hf_tokenizer, id2type=id2type)"
   ]
  },
  {
   "cell_type": "code",
   "execution_count": 52,
   "id": "61885c20",
   "metadata": {},
   "outputs": [
    {
     "data": {
      "application/vnd.jupyter.widget-view+json": {
       "model_id": "04a73aa4be4c480eb54d9c18ebb632c6",
       "version_major": 2,
       "version_minor": 0
      },
      "text/plain": [
       "HBox(children=(FloatProgress(value=0.0, max=5.0), HTML(value='')))"
      ]
     },
     "metadata": {},
     "output_type": "display_data"
    },
    {
     "name": "stdout",
     "output_type": "stream",
     "text": [
      "\n"
     ]
    }
   ],
   "source": [
    "encoded_dataset = dataset.map(\n",
    "        lambda examples: tokenizer.encode(examples, ignore_subwords=True),\n",
    "        batched=True,\n",
    "        remove_columns=['ent_cuis', 'ent_ends', 'ent_starts', 'text'])"
   ]
  },
  {
   "cell_type": "code",
   "execution_count": 53,
   "id": "a940eb4c",
   "metadata": {},
   "outputs": [
    {
     "data": {
      "text/plain": [
       "Dataset({\n",
       "    features: ['id', 'input_ids', 'labels'],\n",
       "    num_rows: 4935\n",
       "})"
      ]
     },
     "execution_count": 53,
     "metadata": {},
     "output_type": "execute_result"
    }
   ],
   "source": [
    "encoded_dataset"
   ]
  },
  {
   "cell_type": "code",
   "execution_count": 54,
   "id": "0baedbf4",
   "metadata": {},
   "outputs": [
    {
     "name": "stderr",
     "output_type": "stream",
     "text": [
      "Some weights of the model checkpoint at emilyalsentzer/Bio_ClinicalBERT were not used when initializing BertForTokenClassification: ['cls.predictions.bias', 'cls.predictions.transform.dense.weight', 'cls.predictions.transform.dense.bias', 'cls.predictions.transform.LayerNorm.weight', 'cls.predictions.transform.LayerNorm.bias', 'cls.predictions.decoder.weight', 'cls.seq_relationship.weight', 'cls.seq_relationship.bias']\n",
      "- This IS expected if you are initializing BertForTokenClassification from the checkpoint of a model trained on another task or with another architecture (e.g. initializing a BertForSequenceClassification model from a BertForPreTraining model).\n",
      "- This IS NOT expected if you are initializing BertForTokenClassification from the checkpoint of a model that you expect to be exactly identical (initializing a BertForSequenceClassification model from a BertForSequenceClassification model).\n",
      "Some weights of BertForTokenClassification were not initialized from the model checkpoint at emilyalsentzer/Bio_ClinicalBERT and are newly initialized: ['classifier.weight', 'classifier.bias']\n",
      "You should probably TRAIN this model on a down-stream task to be able to use it for predictions and inference.\n"
     ]
    }
   ],
   "source": [
    "model = AutoModelForTokenClassification.from_pretrained(\"emilyalsentzer/Bio_ClinicalBERT\", num_labels=len(tokenizer.label_map))"
   ]
  },
  {
   "cell_type": "code",
   "execution_count": 55,
   "id": "c29bf681",
   "metadata": {},
   "outputs": [],
   "source": [
    "encoded_dataset = encoded_dataset.train_test_split(test_size = 0.2)"
   ]
  },
  {
   "cell_type": "code",
   "execution_count": 56,
   "id": "3987164a",
   "metadata": {},
   "outputs": [],
   "source": [
    "collate_fn = CollateAndPadNER(hf_tokenizer.pad_token_id)"
   ]
  },
  {
   "cell_type": "code",
   "execution_count": 57,
   "id": "11423ebc",
   "metadata": {},
   "outputs": [],
   "source": [
    "training_args = TrainingArguments(\n",
    "    output_dir='./results',          # output directory\n",
    "    num_train_epochs=10,              # total number of training epochs\n",
    "    per_device_train_batch_size=4,  # batch size per device during training\n",
    "    per_device_eval_batch_size=4,   # batch size for evaluation\n",
    "    weight_decay=0.1431478776404838,               # strength of weight decay\n",
    "    logging_dir='./logs',            # directory for storing logs\n",
    "    logging_steps=200,\n",
    "    eval_steps=500,\n",
    "    warmup_steps=15,\n",
    "    learning_rate= 4.4670352057797207e-05,\n",
    "    eval_accumulation_steps=1,\n",
    "    do_eval=True,\n",
    "    evaluation_strategy='steps',\n",
    "    load_best_model_at_end=True,\n",
    ")"
   ]
  },
  {
   "cell_type": "code",
   "execution_count": 58,
   "id": "a8bc2c7e",
   "metadata": {},
   "outputs": [],
   "source": [
    "from sklearn.metrics import classification_report\n",
    "def metrics(p):\n",
    "    preds = np.argmax(p.predictions, axis=2)\n",
    "    # Ignore predictions where label == -100, padding\n",
    "    preds[np.where(p.label_ids == -100)] = -100\n",
    "    print(classification_report(np.reshape(p.label_ids, -1), np.reshape(preds, -1)))\n",
    "    return {'none': 0}"
   ]
  },
  {
   "cell_type": "code",
   "execution_count": 59,
   "id": "27d76e21",
   "metadata": {},
   "outputs": [],
   "source": [
    "trainer = Trainer(\n",
    "    model=model,                         \n",
    "    args=training_args,                 \n",
    "    train_dataset=encoded_dataset['train'],       \n",
    "    eval_dataset=encoded_dataset['test'],     \n",
    "    compute_metrics=metrics,\n",
    "    data_collator=collate_fn,\n",
    "    tokenizer=None\n",
    ")"
   ]
  },
  {
   "cell_type": "code",
   "execution_count": 60,
   "id": "e4034e77",
   "metadata": {
    "scrolled": true
   },
   "outputs": [
    {
     "name": "stderr",
     "output_type": "stream",
     "text": [
      "ERROR:wandb.jupyter:Failed to detect the name of this notebook, you can set it manually with the WANDB_NOTEBOOK_NAME environment variable to enable code saving.\n",
      "\u001b[34m\u001b[1mwandb\u001b[0m: Currently logged in as: \u001b[33mwish\u001b[0m (use `wandb login --relogin` to force relogin)\n",
      "\u001b[34m\u001b[1mwandb\u001b[0m: wandb version 0.10.33 is available!  To upgrade, please run:\n",
      "\u001b[34m\u001b[1mwandb\u001b[0m:  $ pip install wandb --upgrade\n"
     ]
    },
    {
     "data": {
      "text/html": [
       "\n",
       "                Tracking run with wandb version 0.10.30<br/>\n",
       "                Syncing run <strong style=\"color:#cdcd00\">./results</strong> to <a href=\"https://wandb.ai\" target=\"_blank\">Weights & Biases</a> <a href=\"https://docs.wandb.com/integrations/jupyter.html\" target=\"_blank\">(Documentation)</a>.<br/>\n",
       "                Project page: <a href=\"https://wandb.ai/wish/huggingface\" target=\"_blank\">https://wandb.ai/wish/huggingface</a><br/>\n",
       "                Run page: <a href=\"https://wandb.ai/wish/huggingface/runs/2fgd68w3\" target=\"_blank\">https://wandb.ai/wish/huggingface/runs/2fgd68w3</a><br/>\n",
       "                Run data is saved locally in <code>/home/wish/projects/MedCAT/notebooks/wandb/run-20210706_141524-2fgd68w3</code><br/><br/>\n",
       "            "
      ],
      "text/plain": [
       "<IPython.core.display.HTML object>"
      ]
     },
     "metadata": {},
     "output_type": "display_data"
    },
    {
     "data": {
      "text/html": [
       "\n",
       "    <div>\n",
       "        <style>\n",
       "            /* Turns off some styling */\n",
       "            progress {\n",
       "                /* gets rid of default border in Firefox and Opera. */\n",
       "                border: none;\n",
       "                /* Needs to be in here for Safari polyfill so background images work as expected. */\n",
       "                background-size: auto;\n",
       "            }\n",
       "        </style>\n",
       "      \n",
       "      <progress value='5946' max='9870' style='width:300px; height:20px; vertical-align: middle;'></progress>\n",
       "      [5946/9870 14:19 < 09:27, 6.92 it/s, Epoch 6.02/10]\n",
       "    </div>\n",
       "    <table border=\"1\" class=\"dataframe\">\n",
       "  <thead>\n",
       "    <tr style=\"text-align: left;\">\n",
       "      <th>Step</th>\n",
       "      <th>Training Loss</th>\n",
       "      <th>Validation Loss</th>\n",
       "      <th>None</th>\n",
       "      <th>Runtime</th>\n",
       "      <th>Samples Per Second</th>\n",
       "    </tr>\n",
       "  </thead>\n",
       "  <tbody>\n",
       "    <tr>\n",
       "      <td>500</td>\n",
       "      <td>0.074500</td>\n",
       "      <td>0.058395</td>\n",
       "      <td>0</td>\n",
       "      <td>7.172000</td>\n",
       "      <td>137.618000</td>\n",
       "    </tr>\n",
       "    <tr>\n",
       "      <td>1000</td>\n",
       "      <td>0.052200</td>\n",
       "      <td>0.053738</td>\n",
       "      <td>0</td>\n",
       "      <td>7.185500</td>\n",
       "      <td>137.359000</td>\n",
       "    </tr>\n",
       "    <tr>\n",
       "      <td>1500</td>\n",
       "      <td>0.045700</td>\n",
       "      <td>0.054341</td>\n",
       "      <td>0</td>\n",
       "      <td>7.156500</td>\n",
       "      <td>137.917000</td>\n",
       "    </tr>\n",
       "    <tr>\n",
       "      <td>2000</td>\n",
       "      <td>0.043200</td>\n",
       "      <td>0.049285</td>\n",
       "      <td>0</td>\n",
       "      <td>7.196100</td>\n",
       "      <td>137.158000</td>\n",
       "    </tr>\n",
       "    <tr>\n",
       "      <td>2500</td>\n",
       "      <td>0.036000</td>\n",
       "      <td>0.052290</td>\n",
       "      <td>0</td>\n",
       "      <td>7.175300</td>\n",
       "      <td>137.555000</td>\n",
       "    </tr>\n",
       "    <tr>\n",
       "      <td>3000</td>\n",
       "      <td>0.033200</td>\n",
       "      <td>0.059053</td>\n",
       "      <td>0</td>\n",
       "      <td>7.199200</td>\n",
       "      <td>137.098000</td>\n",
       "    </tr>\n",
       "    <tr>\n",
       "      <td>3500</td>\n",
       "      <td>0.024000</td>\n",
       "      <td>0.053852</td>\n",
       "      <td>0</td>\n",
       "      <td>7.197200</td>\n",
       "      <td>137.136000</td>\n",
       "    </tr>\n",
       "    <tr>\n",
       "      <td>4000</td>\n",
       "      <td>0.025000</td>\n",
       "      <td>0.060464</td>\n",
       "      <td>0</td>\n",
       "      <td>7.204000</td>\n",
       "      <td>137.006000</td>\n",
       "    </tr>\n",
       "    <tr>\n",
       "      <td>4500</td>\n",
       "      <td>0.017000</td>\n",
       "      <td>0.060763</td>\n",
       "      <td>0</td>\n",
       "      <td>7.214400</td>\n",
       "      <td>136.810000</td>\n",
       "    </tr>\n",
       "    <tr>\n",
       "      <td>5000</td>\n",
       "      <td>0.015600</td>\n",
       "      <td>0.065727</td>\n",
       "      <td>0</td>\n",
       "      <td>7.195600</td>\n",
       "      <td>137.166000</td>\n",
       "    </tr>\n",
       "    <tr>\n",
       "      <td>5500</td>\n",
       "      <td>0.012300</td>\n",
       "      <td>0.069768</td>\n",
       "      <td>0</td>\n",
       "      <td>7.194700</td>\n",
       "      <td>137.185000</td>\n",
       "    </tr>\n",
       "  </tbody>\n",
       "</table><p>\n",
       "    <div>\n",
       "        <style>\n",
       "            /* Turns off some styling */\n",
       "            progress {\n",
       "                /* gets rid of default border in Firefox and Opera. */\n",
       "                border: none;\n",
       "                /* Needs to be in here for Safari polyfill so background images work as expected. */\n",
       "                background-size: auto;\n",
       "            }\n",
       "        </style>\n",
       "      \n",
       "      <progress value='247' max='247' style='width:300px; height:20px; vertical-align: middle;'></progress>\n",
       "      [247/247 00:06]\n",
       "    </div>\n",
       "    "
      ],
      "text/plain": [
       "<IPython.core.display.HTML object>"
      ]
     },
     "metadata": {},
     "output_type": "display_data"
    },
    {
     "name": "stderr",
     "output_type": "stream",
     "text": [
      "/home/wish/.venv/play/lib/python3.8/site-packages/sklearn/metrics/_classification.py:1248: UndefinedMetricWarning: Precision and F-score are ill-defined and being set to 0.0 in labels with no predicted samples. Use `zero_division` parameter to control this behavior.\n",
      "  _warn_prf(average, modifier, msg_start, len(result))\n",
      "/home/wish/.venv/play/lib/python3.8/site-packages/sklearn/metrics/_classification.py:1248: UndefinedMetricWarning: Precision and F-score are ill-defined and being set to 0.0 in labels with no predicted samples. Use `zero_division` parameter to control this behavior.\n",
      "  _warn_prf(average, modifier, msg_start, len(result))\n"
     ]
    },
    {
     "name": "stdout",
     "output_type": "stream",
     "text": [
      "              precision    recall  f1-score   support\n",
      "\n",
      "        -100       1.00      1.00      1.00    177928\n",
      "           0       0.99      0.99      0.99    248269\n",
      "           1       1.00      1.00      1.00     73507\n",
      "           2       0.86      0.88      0.87      1282\n",
      "           3       0.60      0.37      0.46       463\n",
      "           4       0.47      0.62      0.54       240\n",
      "           5       0.44      0.74      0.55       282\n",
      "           6       0.32      0.33      0.32       203\n",
      "           7       0.20      0.00      0.00       790\n",
      "           8       0.63      0.97      0.76       435\n",
      "           9       0.33      0.65      0.44       248\n",
      "          10       0.67      0.26      0.37       226\n",
      "          11       0.48      0.40      0.44       380\n",
      "          12       0.00      0.00      0.00       451\n",
      "          13       0.00      0.00      0.00       395\n",
      "          14       0.68      0.86      0.76       245\n",
      "\n",
      "    accuracy                           0.99    505344\n",
      "   macro avg       0.54      0.57      0.53    505344\n",
      "weighted avg       0.99      0.99      0.99    505344\n",
      "\n"
     ]
    },
    {
     "name": "stderr",
     "output_type": "stream",
     "text": [
      "/home/wish/.venv/play/lib/python3.8/site-packages/sklearn/metrics/_classification.py:1248: UndefinedMetricWarning: Precision and F-score are ill-defined and being set to 0.0 in labels with no predicted samples. Use `zero_division` parameter to control this behavior.\n",
      "  _warn_prf(average, modifier, msg_start, len(result))\n",
      "/home/wish/.venv/play/lib/python3.8/site-packages/sklearn/metrics/_classification.py:1248: UndefinedMetricWarning: Precision and F-score are ill-defined and being set to 0.0 in labels with no predicted samples. Use `zero_division` parameter to control this behavior.\n",
      "  _warn_prf(average, modifier, msg_start, len(result))\n",
      "/home/wish/.venv/play/lib/python3.8/site-packages/sklearn/metrics/_classification.py:1248: UndefinedMetricWarning: Precision and F-score are ill-defined and being set to 0.0 in labels with no predicted samples. Use `zero_division` parameter to control this behavior.\n",
      "  _warn_prf(average, modifier, msg_start, len(result))\n"
     ]
    },
    {
     "name": "stdout",
     "output_type": "stream",
     "text": [
      "              precision    recall  f1-score   support\n",
      "\n",
      "        -100       1.00      1.00      1.00    177928\n",
      "           0       0.99      0.99      0.99    248269\n",
      "           1       1.00      1.00      1.00     73507\n",
      "           2       0.86      0.91      0.88      1282\n",
      "           3       0.51      0.81      0.63       463\n",
      "           4       0.52      0.88      0.65       240\n",
      "           5       0.54      0.65      0.59       282\n",
      "           6       0.28      0.95      0.43       203\n",
      "           7       0.50      0.10      0.16       790\n",
      "           8       0.67      0.95      0.79       435\n",
      "           9       0.42      0.48      0.45       248\n",
      "          10       0.61      0.37      0.46       226\n",
      "          11       0.40      0.63      0.49       380\n",
      "          12       0.00      0.00      0.00       451\n",
      "          13       0.00      0.00      0.00       395\n",
      "          14       0.72      0.83      0.77       245\n",
      "\n",
      "    accuracy                           0.99    505344\n",
      "   macro avg       0.56      0.66      0.58    505344\n",
      "weighted avg       0.99      0.99      0.99    505344\n",
      "\n"
     ]
    },
    {
     "name": "stderr",
     "output_type": "stream",
     "text": [
      "/home/wish/.venv/play/lib/python3.8/site-packages/sklearn/metrics/_classification.py:1248: UndefinedMetricWarning: Precision and F-score are ill-defined and being set to 0.0 in labels with no predicted samples. Use `zero_division` parameter to control this behavior.\n",
      "  _warn_prf(average, modifier, msg_start, len(result))\n",
      "/home/wish/.venv/play/lib/python3.8/site-packages/sklearn/metrics/_classification.py:1248: UndefinedMetricWarning: Precision and F-score are ill-defined and being set to 0.0 in labels with no predicted samples. Use `zero_division` parameter to control this behavior.\n",
      "  _warn_prf(average, modifier, msg_start, len(result))\n",
      "/home/wish/.venv/play/lib/python3.8/site-packages/sklearn/metrics/_classification.py:1248: UndefinedMetricWarning: Precision and F-score are ill-defined and being set to 0.0 in labels with no predicted samples. Use `zero_division` parameter to control this behavior.\n",
      "  _warn_prf(average, modifier, msg_start, len(result))\n"
     ]
    },
    {
     "name": "stdout",
     "output_type": "stream",
     "text": [
      "              precision    recall  f1-score   support\n",
      "\n",
      "        -100       1.00      1.00      1.00    177928\n",
      "           0       0.99      1.00      0.99    248269\n",
      "           1       1.00      1.00      1.00     73507\n",
      "           2       0.89      0.89      0.89      1282\n",
      "           3       0.58      0.10      0.17       463\n",
      "           4       0.56      0.10      0.18       240\n",
      "           5       0.63      0.38      0.47       282\n",
      "           6       0.00      0.00      0.00       203\n",
      "           7       0.54      0.08      0.14       790\n",
      "           8       0.68      0.94      0.79       435\n",
      "           9       0.00      0.00      0.00       248\n",
      "          10       0.67      0.28      0.39       226\n",
      "          11       0.69      0.25      0.37       380\n",
      "          12       0.00      0.00      0.00       451\n",
      "          13       0.00      0.00      0.00       395\n",
      "          14       0.72      0.82      0.77       245\n",
      "\n",
      "    accuracy                           0.99    505344\n",
      "   macro avg       0.56      0.43      0.45    505344\n",
      "weighted avg       0.99      0.99      0.99    505344\n",
      "\n"
     ]
    },
    {
     "name": "stderr",
     "output_type": "stream",
     "text": [
      "/home/wish/.venv/play/lib/python3.8/site-packages/sklearn/metrics/_classification.py:1248: UndefinedMetricWarning: Precision and F-score are ill-defined and being set to 0.0 in labels with no predicted samples. Use `zero_division` parameter to control this behavior.\n",
      "  _warn_prf(average, modifier, msg_start, len(result))\n",
      "/home/wish/.venv/play/lib/python3.8/site-packages/sklearn/metrics/_classification.py:1248: UndefinedMetricWarning: Precision and F-score are ill-defined and being set to 0.0 in labels with no predicted samples. Use `zero_division` parameter to control this behavior.\n",
      "  _warn_prf(average, modifier, msg_start, len(result))\n",
      "/home/wish/.venv/play/lib/python3.8/site-packages/sklearn/metrics/_classification.py:1248: UndefinedMetricWarning: Precision and F-score are ill-defined and being set to 0.0 in labels with no predicted samples. Use `zero_division` parameter to control this behavior.\n",
      "  _warn_prf(average, modifier, msg_start, len(result))\n"
     ]
    },
    {
     "name": "stdout",
     "output_type": "stream",
     "text": [
      "              precision    recall  f1-score   support\n",
      "\n",
      "        -100       1.00      1.00      1.00    177928\n",
      "           0       0.99      1.00      0.99    248269\n",
      "           1       1.00      1.00      1.00     73507\n",
      "           2       0.88      0.90      0.89      1282\n",
      "           3       0.57      0.65      0.61       463\n",
      "           4       0.58      0.40      0.48       240\n",
      "           5       0.64      0.51      0.56       282\n",
      "           6       0.43      0.30      0.35       203\n",
      "           7       0.45      0.08      0.13       790\n",
      "           8       0.69      0.94      0.79       435\n",
      "           9       0.47      0.10      0.17       248\n",
      "          10       0.65      0.42      0.51       226\n",
      "          11       0.57      0.53      0.55       380\n",
      "          12       0.47      0.06      0.11       451\n",
      "          13       0.00      0.00      0.00       395\n",
      "          14       0.71      0.83      0.77       245\n",
      "\n",
      "    accuracy                           0.99    505344\n",
      "   macro avg       0.63      0.55      0.56    505344\n",
      "weighted avg       0.99      0.99      0.99    505344\n",
      "\n"
     ]
    },
    {
     "name": "stderr",
     "output_type": "stream",
     "text": [
      "/home/wish/.venv/play/lib/python3.8/site-packages/sklearn/metrics/_classification.py:1248: UndefinedMetricWarning: Precision and F-score are ill-defined and being set to 0.0 in labels with no predicted samples. Use `zero_division` parameter to control this behavior.\n",
      "  _warn_prf(average, modifier, msg_start, len(result))\n"
     ]
    },
    {
     "name": "stdout",
     "output_type": "stream",
     "text": [
      "              precision    recall  f1-score   support\n",
      "\n",
      "        -100       1.00      1.00      1.00    177928\n",
      "           0       0.99      0.99      0.99    248269\n",
      "           1       1.00      1.00      1.00     73507\n",
      "           2       0.90      0.88      0.89      1282\n",
      "           3       0.57      0.59      0.58       463\n",
      "           4       0.52      0.20      0.28       240\n",
      "           5       0.64      0.58      0.61       282\n",
      "           6       0.31      0.05      0.09       203\n",
      "           7       0.20      0.12      0.15       790\n",
      "           8       0.67      0.94      0.78       435\n",
      "           9       0.31      0.02      0.04       248\n",
      "          10       0.41      0.58      0.48       226\n",
      "          11       0.56      0.50      0.53       380\n",
      "          12       0.43      0.08      0.13       451\n",
      "          13       0.21      0.01      0.01       395\n",
      "          14       0.71      0.84      0.77       245\n",
      "\n",
      "    accuracy                           0.99    505344\n",
      "   macro avg       0.59      0.52      0.52    505344\n",
      "weighted avg       0.99      0.99      0.99    505344\n",
      "\n",
      "              precision    recall  f1-score   support\n",
      "\n",
      "        -100       1.00      1.00      1.00    177928\n",
      "           0       0.99      0.99      0.99    248269\n",
      "           1       1.00      1.00      1.00     73507\n",
      "           2       0.88      0.90      0.89      1282\n",
      "           3       0.57      0.52      0.54       463\n",
      "           4       0.55      0.75      0.64       240\n",
      "           5       0.63      0.61      0.62       282\n",
      "           6       0.42      0.35      0.38       203\n",
      "           7       0.51      0.10      0.17       790\n",
      "           8       0.66      0.95      0.78       435\n",
      "           9       0.42      0.60      0.50       248\n",
      "          10       0.64      0.35      0.45       226\n",
      "          11       0.62      0.43      0.51       380\n",
      "          12       0.46      0.08      0.14       451\n",
      "          13       0.10      0.01      0.02       395\n",
      "          14       0.72      0.81      0.76       245\n",
      "\n",
      "    accuracy                           0.99    505344\n",
      "   macro avg       0.64      0.59      0.59    505344\n",
      "weighted avg       0.99      0.99      0.99    505344\n",
      "\n",
      "              precision    recall  f1-score   support\n",
      "\n",
      "        -100       1.00      1.00      1.00    177928\n",
      "           0       0.99      0.99      0.99    248269\n",
      "           1       1.00      1.00      1.00     73507\n",
      "           2       0.86      0.91      0.88      1282\n",
      "           3       0.51      0.76      0.61       463\n",
      "           4       0.57      0.37      0.45       240\n",
      "           5       0.60      0.57      0.59       282\n",
      "           6       0.35      0.64      0.46       203\n",
      "           7       0.38      0.21      0.27       790\n",
      "           8       0.69      0.90      0.78       435\n",
      "           9       0.41      0.40      0.40       248\n",
      "          10       0.49      0.56      0.52       226\n",
      "          11       0.64      0.41      0.50       380\n",
      "          12       0.27      0.09      0.14       451\n",
      "          13       0.09      0.01      0.02       395\n",
      "          14       0.67      0.87      0.76       245\n",
      "\n",
      "    accuracy                           0.99    505344\n",
      "   macro avg       0.60      0.61      0.59    505344\n",
      "weighted avg       0.99      0.99      0.99    505344\n",
      "\n",
      "              precision    recall  f1-score   support\n",
      "\n",
      "        -100       1.00      1.00      1.00    177928\n",
      "           0       0.99      0.99      0.99    248269\n",
      "           1       1.00      1.00      1.00     73507\n",
      "           2       0.86      0.91      0.88      1282\n",
      "           3       0.52      0.79      0.63       463\n",
      "           4       0.56      0.75      0.64       240\n",
      "           5       0.63      0.53      0.58       282\n",
      "           6       0.39      0.37      0.38       203\n",
      "           7       0.46      0.20      0.28       790\n",
      "           8       0.69      0.89      0.78       435\n",
      "           9       0.44      0.56      0.49       248\n",
      "          10       0.52      0.58      0.55       226\n",
      "          11       0.57      0.51      0.54       380\n",
      "          12       0.30      0.09      0.14       451\n",
      "          13       0.09      0.02      0.03       395\n",
      "          14       0.70      0.84      0.76       245\n",
      "\n",
      "    accuracy                           0.99    505344\n",
      "   macro avg       0.61      0.63      0.60    505344\n",
      "weighted avg       0.99      0.99      0.99    505344\n",
      "\n",
      "              precision    recall  f1-score   support\n",
      "\n",
      "        -100       1.00      1.00      1.00    177928\n",
      "           0       0.99      0.99      0.99    248269\n",
      "           1       1.00      1.00      1.00     73507\n",
      "           2       0.88      0.90      0.89      1282\n",
      "           3       0.51      0.44      0.47       463\n",
      "           4       0.56      0.69      0.62       240\n",
      "           5       0.60      0.62      0.61       282\n",
      "           6       0.38      0.18      0.25       203\n",
      "           7       0.33      0.18      0.24       790\n",
      "           8       0.68      0.70      0.69       435\n",
      "           9       0.40      0.48      0.44       248\n",
      "          10       0.52      0.57      0.54       226\n",
      "          11       0.55      0.43      0.49       380\n",
      "          12       0.31      0.12      0.17       451\n",
      "          13       0.14      0.02      0.04       395\n",
      "          14       0.75      0.65      0.70       245\n",
      "\n",
      "    accuracy                           0.99    505344\n",
      "   macro avg       0.60      0.56      0.57    505344\n",
      "weighted avg       0.99      0.99      0.99    505344\n",
      "\n",
      "              precision    recall  f1-score   support\n",
      "\n",
      "        -100       1.00      1.00      1.00    177928\n",
      "           0       0.99      0.99      0.99    248269\n",
      "           1       1.00      1.00      1.00     73507\n",
      "           2       0.85      0.90      0.88      1282\n",
      "           3       0.52      0.74      0.61       463\n",
      "           4       0.57      0.54      0.56       240\n",
      "           5       0.60      0.58      0.59       282\n",
      "           6       0.36      0.35      0.36       203\n",
      "           7       0.34      0.13      0.19       790\n",
      "           8       0.66      0.94      0.77       435\n",
      "           9       0.43      0.49      0.46       248\n",
      "          10       0.58      0.54      0.56       226\n",
      "          11       0.46      0.56      0.51       380\n",
      "          12       0.31      0.12      0.17       451\n",
      "          13       0.14      0.04      0.06       395\n",
      "          14       0.72      0.79      0.76       245\n",
      "\n",
      "    accuracy                           0.99    505344\n",
      "   macro avg       0.60      0.61      0.59    505344\n",
      "weighted avg       0.99      0.99      0.99    505344\n",
      "\n",
      "              precision    recall  f1-score   support\n",
      "\n",
      "        -100       1.00      1.00      1.00    177928\n",
      "           0       0.99      0.99      0.99    248269\n",
      "           1       1.00      1.00      1.00     73507\n",
      "           2       0.90      0.87      0.88      1282\n",
      "           3       0.52      0.63      0.57       463\n",
      "           4       0.57      0.53      0.55       240\n",
      "           5       0.62      0.48      0.54       282\n",
      "           6       0.37      0.23      0.28       203\n",
      "           7       0.31      0.10      0.15       790\n",
      "           8       0.67      0.64      0.66       435\n",
      "           9       0.46      0.46      0.46       248\n",
      "          10       0.56      0.55      0.55       226\n",
      "          11       0.61      0.43      0.50       380\n",
      "          12       0.34      0.10      0.16       451\n",
      "          13       0.12      0.01      0.02       395\n",
      "          14       0.68      0.82      0.75       245\n",
      "\n",
      "    accuracy                           0.99    505344\n",
      "   macro avg       0.61      0.55      0.57    505344\n",
      "weighted avg       0.99      0.99      0.99    505344\n",
      "\n"
     ]
    },
    {
     "ename": "KeyboardInterrupt",
     "evalue": "",
     "output_type": "error",
     "traceback": [
      "\u001b[0;31m---------------------------------------------------------------------------\u001b[0m",
      "\u001b[0;31mKeyboardInterrupt\u001b[0m                         Traceback (most recent call last)",
      "\u001b[0;32m<ipython-input-60-3435b262f1ae>\u001b[0m in \u001b[0;36m<module>\u001b[0;34m\u001b[0m\n\u001b[0;32m----> 1\u001b[0;31m \u001b[0mtrainer\u001b[0m\u001b[0;34m.\u001b[0m\u001b[0mtrain\u001b[0m\u001b[0;34m(\u001b[0m\u001b[0;34m)\u001b[0m\u001b[0;34m\u001b[0m\u001b[0;34m\u001b[0m\u001b[0m\n\u001b[0m",
      "\u001b[0;32m~/.venv/play/lib/python3.8/site-packages/transformers/trainer.py\u001b[0m in \u001b[0;36mtrain\u001b[0;34m(self, resume_from_checkpoint, trial, **kwargs)\u001b[0m\n\u001b[1;32m   1118\u001b[0m                         \u001b[0mtr_loss\u001b[0m \u001b[0;34m+=\u001b[0m \u001b[0mself\u001b[0m\u001b[0;34m.\u001b[0m\u001b[0mtraining_step\u001b[0m\u001b[0;34m(\u001b[0m\u001b[0mmodel\u001b[0m\u001b[0;34m,\u001b[0m \u001b[0minputs\u001b[0m\u001b[0;34m)\u001b[0m\u001b[0;34m\u001b[0m\u001b[0;34m\u001b[0m\u001b[0m\n\u001b[1;32m   1119\u001b[0m                 \u001b[0;32melse\u001b[0m\u001b[0;34m:\u001b[0m\u001b[0;34m\u001b[0m\u001b[0;34m\u001b[0m\u001b[0m\n\u001b[0;32m-> 1120\u001b[0;31m                     \u001b[0mtr_loss\u001b[0m \u001b[0;34m+=\u001b[0m \u001b[0mself\u001b[0m\u001b[0;34m.\u001b[0m\u001b[0mtraining_step\u001b[0m\u001b[0;34m(\u001b[0m\u001b[0mmodel\u001b[0m\u001b[0;34m,\u001b[0m \u001b[0minputs\u001b[0m\u001b[0;34m)\u001b[0m\u001b[0;34m\u001b[0m\u001b[0;34m\u001b[0m\u001b[0m\n\u001b[0m\u001b[1;32m   1121\u001b[0m                 \u001b[0mself\u001b[0m\u001b[0;34m.\u001b[0m\u001b[0m_total_flos\u001b[0m \u001b[0;34m+=\u001b[0m \u001b[0mfloat\u001b[0m\u001b[0;34m(\u001b[0m\u001b[0mself\u001b[0m\u001b[0;34m.\u001b[0m\u001b[0mfloating_point_ops\u001b[0m\u001b[0;34m(\u001b[0m\u001b[0minputs\u001b[0m\u001b[0;34m)\u001b[0m\u001b[0;34m)\u001b[0m\u001b[0;34m\u001b[0m\u001b[0;34m\u001b[0m\u001b[0m\n\u001b[1;32m   1122\u001b[0m \u001b[0;34m\u001b[0m\u001b[0m\n",
      "\u001b[0;32m~/.venv/play/lib/python3.8/site-packages/transformers/trainer.py\u001b[0m in \u001b[0;36mtraining_step\u001b[0;34m(self, model, inputs)\u001b[0m\n\u001b[1;32m   1540\u001b[0m             \u001b[0mloss\u001b[0m \u001b[0;34m=\u001b[0m \u001b[0mself\u001b[0m\u001b[0;34m.\u001b[0m\u001b[0mdeepspeed\u001b[0m\u001b[0;34m.\u001b[0m\u001b[0mbackward\u001b[0m\u001b[0;34m(\u001b[0m\u001b[0mloss\u001b[0m\u001b[0;34m)\u001b[0m\u001b[0;34m\u001b[0m\u001b[0;34m\u001b[0m\u001b[0m\n\u001b[1;32m   1541\u001b[0m         \u001b[0;32melse\u001b[0m\u001b[0;34m:\u001b[0m\u001b[0;34m\u001b[0m\u001b[0;34m\u001b[0m\u001b[0m\n\u001b[0;32m-> 1542\u001b[0;31m             \u001b[0mloss\u001b[0m\u001b[0;34m.\u001b[0m\u001b[0mbackward\u001b[0m\u001b[0;34m(\u001b[0m\u001b[0;34m)\u001b[0m\u001b[0;34m\u001b[0m\u001b[0;34m\u001b[0m\u001b[0m\n\u001b[0m\u001b[1;32m   1543\u001b[0m \u001b[0;34m\u001b[0m\u001b[0m\n\u001b[1;32m   1544\u001b[0m         \u001b[0;32mreturn\u001b[0m \u001b[0mloss\u001b[0m\u001b[0;34m.\u001b[0m\u001b[0mdetach\u001b[0m\u001b[0;34m(\u001b[0m\u001b[0;34m)\u001b[0m\u001b[0;34m\u001b[0m\u001b[0;34m\u001b[0m\u001b[0m\n",
      "\u001b[0;32m~/.venv/play/lib/python3.8/site-packages/torch/tensor.py\u001b[0m in \u001b[0;36mbackward\u001b[0;34m(self, gradient, retain_graph, create_graph, inputs)\u001b[0m\n\u001b[1;32m    243\u001b[0m                 \u001b[0mcreate_graph\u001b[0m\u001b[0;34m=\u001b[0m\u001b[0mcreate_graph\u001b[0m\u001b[0;34m,\u001b[0m\u001b[0;34m\u001b[0m\u001b[0;34m\u001b[0m\u001b[0m\n\u001b[1;32m    244\u001b[0m                 inputs=inputs)\n\u001b[0;32m--> 245\u001b[0;31m         \u001b[0mtorch\u001b[0m\u001b[0;34m.\u001b[0m\u001b[0mautograd\u001b[0m\u001b[0;34m.\u001b[0m\u001b[0mbackward\u001b[0m\u001b[0;34m(\u001b[0m\u001b[0mself\u001b[0m\u001b[0;34m,\u001b[0m \u001b[0mgradient\u001b[0m\u001b[0;34m,\u001b[0m \u001b[0mretain_graph\u001b[0m\u001b[0;34m,\u001b[0m \u001b[0mcreate_graph\u001b[0m\u001b[0;34m,\u001b[0m \u001b[0minputs\u001b[0m\u001b[0;34m=\u001b[0m\u001b[0minputs\u001b[0m\u001b[0;34m)\u001b[0m\u001b[0;34m\u001b[0m\u001b[0;34m\u001b[0m\u001b[0m\n\u001b[0m\u001b[1;32m    246\u001b[0m \u001b[0;34m\u001b[0m\u001b[0m\n\u001b[1;32m    247\u001b[0m     \u001b[0;32mdef\u001b[0m \u001b[0mregister_hook\u001b[0m\u001b[0;34m(\u001b[0m\u001b[0mself\u001b[0m\u001b[0;34m,\u001b[0m \u001b[0mhook\u001b[0m\u001b[0;34m)\u001b[0m\u001b[0;34m:\u001b[0m\u001b[0;34m\u001b[0m\u001b[0;34m\u001b[0m\u001b[0m\n",
      "\u001b[0;32m~/.venv/play/lib/python3.8/site-packages/torch/autograd/__init__.py\u001b[0m in \u001b[0;36mbackward\u001b[0;34m(tensors, grad_tensors, retain_graph, create_graph, grad_variables, inputs)\u001b[0m\n\u001b[1;32m    143\u001b[0m         \u001b[0mretain_graph\u001b[0m \u001b[0;34m=\u001b[0m \u001b[0mcreate_graph\u001b[0m\u001b[0;34m\u001b[0m\u001b[0;34m\u001b[0m\u001b[0m\n\u001b[1;32m    144\u001b[0m \u001b[0;34m\u001b[0m\u001b[0m\n\u001b[0;32m--> 145\u001b[0;31m     Variable._execution_engine.run_backward(\n\u001b[0m\u001b[1;32m    146\u001b[0m         \u001b[0mtensors\u001b[0m\u001b[0;34m,\u001b[0m \u001b[0mgrad_tensors_\u001b[0m\u001b[0;34m,\u001b[0m \u001b[0mretain_graph\u001b[0m\u001b[0;34m,\u001b[0m \u001b[0mcreate_graph\u001b[0m\u001b[0;34m,\u001b[0m \u001b[0minputs\u001b[0m\u001b[0;34m,\u001b[0m\u001b[0;34m\u001b[0m\u001b[0;34m\u001b[0m\u001b[0m\n\u001b[1;32m    147\u001b[0m         allow_unreachable=True, accumulate_grad=True)  # allow_unreachable flag\n",
      "\u001b[0;31mKeyboardInterrupt\u001b[0m: "
     ]
    }
   ],
   "source": [
    "trainer.train()"
   ]
  },
  {
   "cell_type": "code",
   "execution_count": 61,
   "id": "722217e7",
   "metadata": {
    "scrolled": true
   },
   "outputs": [
    {
     "name": "stdout",
     "output_type": "stream",
     "text": [
      "              precision    recall  f1-score   support\n",
      "\n",
      "        -100       1.00      1.00      1.00    177928\n",
      "           0       0.99      0.99      0.99    248269\n",
      "           1       1.00      1.00      1.00     73507\n",
      "           2       0.87      0.90      0.89      1282\n",
      "           3       0.54      0.56      0.55       463\n",
      "           4       0.58      0.65      0.62       240\n",
      "           5       0.62      0.52      0.57       282\n",
      "           6       0.37      0.32      0.34       203\n",
      "           7       0.35      0.12      0.18       790\n",
      "           8       0.68      0.87      0.76       435\n",
      "           9       0.41      0.53      0.46       248\n",
      "          10       0.53      0.59      0.56       226\n",
      "          11       0.55      0.54      0.54       380\n",
      "          12       0.31      0.10      0.15       451\n",
      "          13       0.08      0.02      0.03       395\n",
      "          14       0.73      0.77      0.75       245\n",
      "\n",
      "    accuracy                           0.99    505344\n",
      "   macro avg       0.60      0.59      0.59    505344\n",
      "weighted avg       0.99      0.99      0.99    505344\n",
      "\n"
     ]
    }
   ],
   "source": [
    "p = trainer.predict(encoded_dataset['test'])"
   ]
  },
  {
   "cell_type": "code",
   "execution_count": 62,
   "id": "6cfe7d9f",
   "metadata": {},
   "outputs": [],
   "source": [
    "preds = np.argmax(p.predictions, axis=2)"
   ]
  },
  {
   "cell_type": "code",
   "execution_count": 63,
   "id": "6cdd0247",
   "metadata": {
    "scrolled": true
   },
   "outputs": [],
   "source": [
    "# Ignore predictions where label == -100, padding\n",
    "preds[np.where(p.label_ids == -100)] = -100\n",
    "report = classification_report(np.reshape(p.label_ids, -1), np.reshape(preds, -1), output_dict=True)"
   ]
  },
  {
   "cell_type": "code",
   "execution_count": 64,
   "id": "18b9d4b2",
   "metadata": {
    "scrolled": true
   },
   "outputs": [
    {
     "name": "stdout",
     "output_type": "stream",
     "text": [
      "-100\n",
      "{'precision': 1.0, 'recall': 1.0, 'f1-score': 1.0, 'support': 177928}\n",
      "\n",
      "O\n",
      "{'precision': 0.9894611374426603, 'recall': 0.9930639749626413, 'f1-score': 0.9912592824892148, 'support': 248269}\n",
      "\n",
      "X\n",
      "{'precision': 0.9999591864499013, 'recall': 0.9999319792672806, 'f1-score': 0.9999455826735232, 'support': 73507}\n",
      "\n",
      "Patients\n",
      "{'precision': 0.8744326777609682, 'recall': 0.9017160686427457, 'f1-score': 0.8878648233486942, 'support': 1282}\n",
      "\n",
      "Study\n",
      "{'precision': 0.54375, 'recall': 0.5637149028077754, 'f1-score': 0.5535524920466596, 'support': 463}\n",
      "\n",
      "Levels\n",
      "{'precision': 0.5814814814814815, 'recall': 0.6541666666666667, 'f1-score': 0.615686274509804, 'support': 240}\n",
      "\n",
      "Analysis\n",
      "{'precision': 0.6244725738396625, 'recall': 0.524822695035461, 'f1-score': 0.5703275529865125, 'support': 282}\n",
      "\n",
      "Result\n",
      "{'precision': 0.3693181818181818, 'recall': 0.32019704433497537, 'f1-score': 0.34300791556728233, 'support': 203}\n",
      "\n",
      "Finding\n",
      "{'precision': 0.3467153284671533, 'recall': 0.12025316455696203, 'f1-score': 0.17857142857142858, 'support': 790}\n",
      "\n",
      "Associated with\n",
      "{'precision': 0.6762075134168157, 'recall': 0.8689655172413793, 'f1-score': 0.7605633802816901, 'support': 435}\n",
      "\n",
      "Groups\n",
      "{'precision': 0.4106583072100313, 'recall': 0.5282258064516129, 'f1-score': 0.46208112874779544, 'support': 248}\n",
      "\n",
      "Genes\n",
      "{'precision': 0.5254901960784314, 'recall': 0.5929203539823009, 'f1-score': 0.5571725571725571, 'support': 226}\n",
      "\n",
      "Therapeutic procedure\n",
      "{'precision': 0.5466666666666666, 'recall': 0.5394736842105263, 'f1-score': 0.5430463576158939, 'support': 380}\n",
      "\n",
      "Quantitative Qualifier Value\n",
      "{'precision': 0.3115942028985507, 'recall': 0.09534368070953436, 'f1-score': 0.1460101867572156, 'support': 451}\n",
      "\n",
      "Qualitative Qualifier Value\n",
      "{'precision': 0.08108108108108109, 'recall': 0.015189873417721518, 'f1-score': 0.0255863539445629, 'support': 395}\n",
      "\n",
      "Data\n",
      "{'precision': 0.7297297297297297, 'recall': 0.7714285714285715, 'f1-score': 0.75, 'support': 245}\n",
      "\n",
      "accuracy\n",
      "0.991295038627153\n",
      "\n",
      "macro avg\n",
      "{'precision': 0.6006886415213323, 'recall': 0.5930883739822597, 'f1-score': 0.5865422072945521, 'support': 505344}\n",
      "\n",
      "weighted avg\n",
      "{'precision': 0.9898122208976069, 'recall': 0.991295038627153, 'f1-score': 0.9903772764230047, 'support': 505344}\n",
      "\n"
     ]
    }
   ],
   "source": [
    "r_label_map = {v:k for k,v in tokenizer.label_map.items()}\n",
    "for key in report.keys():\n",
    "    if key.isdigit():\n",
    "        cui = r_label_map.get(int(key), key)\n",
    "    else:\n",
    "        cui = key\n",
    "    \n",
    "    name = cdb.get_name(cui)\n",
    "    print(name)\n",
    "    print(report[key])\n",
    "    print()"
   ]
  },
  {
   "cell_type": "markdown",
   "id": "64f0d4ed",
   "metadata": {},
   "source": [
    "## Test MedCAT on the same data"
   ]
  },
  {
   "cell_type": "code",
   "execution_count": 72,
   "id": "f974da93",
   "metadata": {
    "scrolled": true
   },
   "outputs": [],
   "source": [
    "data = json.load(open(DATA_PATH))"
   ]
  },
  {
   "cell_type": "code",
   "execution_count": 73,
   "id": "24f7da16",
   "metadata": {},
   "outputs": [
    {
     "data": {
      "text/plain": [
       "{'C0030705': 5897,\n",
       " 'C2603343': 2140,\n",
       " 'C0441889': 1041,\n",
       " 'C0936012': 1192,\n",
       " 'C1511726': 1001,\n",
       " 'C1274040': 1044,\n",
       " 'C0332281': 1300,\n",
       " 'C0243095': 1925,\n",
       " 'C0441833': 1203,\n",
       " 'C0017337': 1032,\n",
       " 'C0087111': 1662,\n",
       " 'C0392762': 1236,\n",
       " 'C0205556': 1248}"
      ]
     },
     "execution_count": 73,
     "metadata": {},
     "output_type": "execute_result"
    }
   ],
   "source": [
    "cnts = {}\n",
    "for p in data['projects']:\n",
    "    for d in p['documents']:\n",
    "        for a in d['annotations']:\n",
    "            cnts[a['cui']] = cnts.get(a['cui'], 0) + 1\n",
    "cnts"
   ]
  },
  {
   "cell_type": "code",
   "execution_count": 74,
   "id": "d8a68b18",
   "metadata": {},
   "outputs": [],
   "source": [
    "cat.config.linking['filters']['cuis'] = set(cnts.keys())"
   ]
  },
  {
   "cell_type": "code",
   "execution_count": 68,
   "id": "ae5d4142",
   "metadata": {
    "scrolled": true
   },
   "outputs": [
    {
     "data": {
      "application/vnd.jupyter.widget-view+json": {
       "model_id": "",
       "version_major": 2,
       "version_minor": 0
      },
      "text/plain": [
       "HBox(children=(FloatProgress(value=0.0, description='Stats project', max=1.0, style=ProgressStyle(description_…"
      ]
     },
     "metadata": {},
     "output_type": "display_data"
    },
    {
     "data": {
      "application/vnd.jupyter.widget-view+json": {
       "model_id": "",
       "version_major": 2,
       "version_minor": 0
      },
      "text/plain": [
       "HBox(children=(FloatProgress(value=0.0, description='Stats document', max=4392.0, style=ProgressStyle(descript…"
      ]
     },
     "metadata": {},
     "output_type": "display_data"
    },
    {
     "name": "stdout",
     "output_type": "stream",
     "text": [
      "Epoch: 0, Prec: 0.5875118259224219, Rec: 0.1416514598540146, F1: 0.22826686270906082\n",
      "\n",
      "Docs with false positives: unk\n",
      "\n",
      "Docs with false negatives: unk\n",
      "\n",
      "\n",
      "\n",
      "False Positives\n",
      "\n",
      "Associated with                                                        - C0332281             -        639\n",
      "Genes                                                                  - C0017337             -        319\n",
      "Analysis                                                               - C0936012             -        319\n",
      "Groups                                                                 - C0441833             -        141\n",
      "Study                                                                  - C2603343             -        135\n",
      "quantitative~concept                                                   - C0392762             -        135\n",
      "Levels                                                                 - C0441889             -        107\n",
      "Result                                                                 - C1274040             -         99\n",
      "Patients                                                               - C0030705             -         97\n",
      "Data                                                                   - C1511726             -         58\n",
      "\n",
      "\n",
      "False Negatives\n",
      "\n",
      "Patients                                                               - C0030705             -       5025\n",
      "Study                                                                  - C2603343             -       2033\n",
      "Finding                                                                - C0243095             -       1904\n",
      "Therapeutic procedure                                                  - C0087111             -       1617\n",
      "qualitative                                                            - C0205556             -       1223\n",
      "quantitative~concept                                                   - C0392762             -       1145\n",
      "Groups                                                                 - C0441833             -       1137\n",
      "Result                                                                 - C1274040             -       1004\n",
      "Levels                                                                 - C0441889             -        940\n",
      "Genes                                                                  - C0017337             -        912\n",
      "\n",
      "\n",
      "True Positives\n",
      "\n",
      "Associated with                                                        - C0332281             -       1232\n",
      "Patients                                                               - C0030705             -        871\n",
      "Analysis                                                               - C0936012             -        294\n",
      "Genes                                                                  - C0017337             -        120\n",
      "Study                                                                  - C2603343             -        107\n",
      "Levels                                                                 - C0441889             -        101\n",
      "Data                                                                   - C1511726             -         92\n",
      "quantitative~concept                                                   - C0392762             -         91\n",
      "Groups                                                                 - C0441833             -         66\n",
      "Therapeutic procedure                                                  - C0087111             -         45\n",
      "**************************************************************************************************************\n",
      "\n"
     ]
    }
   ],
   "source": [
    "# Print stats before training\n",
    "fp, fn, tp, p, r, f1, cui_counts, examples = cat._print_stats(data)"
   ]
  },
  {
   "cell_type": "code",
   "execution_count": 75,
   "id": "5dd7c1be",
   "metadata": {},
   "outputs": [
    {
     "data": {
      "text/plain": [
       "0.17901604244305488"
      ]
     },
     "execution_count": 75,
     "metadata": {},
     "output_type": "execute_result"
    }
   ],
   "source": [
    "np.average(list(f1.values()))"
   ]
  },
  {
   "cell_type": "code",
   "execution_count": 76,
   "id": "d01cc955",
   "metadata": {
    "scrolled": true
   },
   "outputs": [
    {
     "name": "stderr",
     "output_type": "stream",
     "text": [
      "/home/wish/.venv/play/lib/python3.8/site-packages/numpy/core/_asarray.py:171: VisibleDeprecationWarning: Creating an ndarray from ragged nested sequences (which is a list-or-tuple of lists-or-tuples-or ndarrays with different lengths or shapes) is deprecated. If you meant to do this, you must specify 'dtype=object' when creating the ndarray.\n",
      "  return array(a, dtype, copy=False, order=order, subok=True)\n"
     ]
    },
    {
     "ename": "TypeError",
     "evalue": "can only concatenate str (not \"int\") to str",
     "output_type": "error",
     "traceback": [
      "\u001b[0;31m---------------------------------------------------------------------------\u001b[0m",
      "\u001b[0;31mTypeError\u001b[0m                                 Traceback (most recent call last)",
      "\u001b[0;32m<ipython-input-76-73e4840a8ee2>\u001b[0m in \u001b[0;36m<module>\u001b[0;34m\u001b[0m\n\u001b[0;32m----> 1\u001b[0;31m \u001b[0mnp\u001b[0m\u001b[0;34m.\u001b[0m\u001b[0maverage\u001b[0m\u001b[0;34m(\u001b[0m\u001b[0mlist\u001b[0m\u001b[0;34m(\u001b[0m\u001b[0mp\u001b[0m\u001b[0;34m.\u001b[0m\u001b[0mvalues\u001b[0m\u001b[0;34m(\u001b[0m\u001b[0;34m)\u001b[0m\u001b[0;34m)\u001b[0m\u001b[0;34m)\u001b[0m\u001b[0;34m\u001b[0m\u001b[0;34m\u001b[0m\u001b[0m\n\u001b[0m",
      "\u001b[0;32m<__array_function__ internals>\u001b[0m in \u001b[0;36maverage\u001b[0;34m(*args, **kwargs)\u001b[0m\n",
      "\u001b[0;32m~/.venv/play/lib/python3.8/site-packages/numpy/lib/function_base.py\u001b[0m in \u001b[0;36maverage\u001b[0;34m(a, axis, weights, returned)\u001b[0m\n\u001b[1;32m    378\u001b[0m \u001b[0;34m\u001b[0m\u001b[0m\n\u001b[1;32m    379\u001b[0m     \u001b[0;32mif\u001b[0m \u001b[0mweights\u001b[0m \u001b[0;32mis\u001b[0m \u001b[0;32mNone\u001b[0m\u001b[0;34m:\u001b[0m\u001b[0;34m\u001b[0m\u001b[0;34m\u001b[0m\u001b[0m\n\u001b[0;32m--> 380\u001b[0;31m         \u001b[0mavg\u001b[0m \u001b[0;34m=\u001b[0m \u001b[0ma\u001b[0m\u001b[0;34m.\u001b[0m\u001b[0mmean\u001b[0m\u001b[0;34m(\u001b[0m\u001b[0maxis\u001b[0m\u001b[0;34m)\u001b[0m\u001b[0;34m\u001b[0m\u001b[0;34m\u001b[0m\u001b[0m\n\u001b[0m\u001b[1;32m    381\u001b[0m         \u001b[0mscl\u001b[0m \u001b[0;34m=\u001b[0m \u001b[0mavg\u001b[0m\u001b[0;34m.\u001b[0m\u001b[0mdtype\u001b[0m\u001b[0;34m.\u001b[0m\u001b[0mtype\u001b[0m\u001b[0;34m(\u001b[0m\u001b[0ma\u001b[0m\u001b[0;34m.\u001b[0m\u001b[0msize\u001b[0m\u001b[0;34m/\u001b[0m\u001b[0mavg\u001b[0m\u001b[0;34m.\u001b[0m\u001b[0msize\u001b[0m\u001b[0;34m)\u001b[0m\u001b[0;34m\u001b[0m\u001b[0;34m\u001b[0m\u001b[0m\n\u001b[1;32m    382\u001b[0m     \u001b[0;32melse\u001b[0m\u001b[0;34m:\u001b[0m\u001b[0;34m\u001b[0m\u001b[0;34m\u001b[0m\u001b[0m\n",
      "\u001b[0;32m~/.venv/play/lib/python3.8/site-packages/numpy/core/_methods.py\u001b[0m in \u001b[0;36m_mean\u001b[0;34m(a, axis, dtype, out, keepdims, where)\u001b[0m\n\u001b[1;32m    176\u001b[0m             \u001b[0mis_float16_result\u001b[0m \u001b[0;34m=\u001b[0m \u001b[0;32mTrue\u001b[0m\u001b[0;34m\u001b[0m\u001b[0;34m\u001b[0m\u001b[0m\n\u001b[1;32m    177\u001b[0m \u001b[0;34m\u001b[0m\u001b[0m\n\u001b[0;32m--> 178\u001b[0;31m     \u001b[0mret\u001b[0m \u001b[0;34m=\u001b[0m \u001b[0mumr_sum\u001b[0m\u001b[0;34m(\u001b[0m\u001b[0marr\u001b[0m\u001b[0;34m,\u001b[0m \u001b[0maxis\u001b[0m\u001b[0;34m,\u001b[0m \u001b[0mdtype\u001b[0m\u001b[0;34m,\u001b[0m \u001b[0mout\u001b[0m\u001b[0;34m,\u001b[0m \u001b[0mkeepdims\u001b[0m\u001b[0;34m,\u001b[0m \u001b[0mwhere\u001b[0m\u001b[0;34m=\u001b[0m\u001b[0mwhere\u001b[0m\u001b[0;34m)\u001b[0m\u001b[0;34m\u001b[0m\u001b[0;34m\u001b[0m\u001b[0m\n\u001b[0m\u001b[1;32m    179\u001b[0m     \u001b[0;32mif\u001b[0m \u001b[0misinstance\u001b[0m\u001b[0;34m(\u001b[0m\u001b[0mret\u001b[0m\u001b[0;34m,\u001b[0m \u001b[0mmu\u001b[0m\u001b[0;34m.\u001b[0m\u001b[0mndarray\u001b[0m\u001b[0;34m)\u001b[0m\u001b[0;34m:\u001b[0m\u001b[0;34m\u001b[0m\u001b[0;34m\u001b[0m\u001b[0m\n\u001b[1;32m    180\u001b[0m         ret = um.true_divide(\n",
      "\u001b[0;31mTypeError\u001b[0m: can only concatenate str (not \"int\") to str"
     ]
    }
   ],
   "source": [
    "np.average(list(p.values()))"
   ]
  },
  {
   "cell_type": "code",
   "execution_count": 77,
   "id": "493d9b4c",
   "metadata": {},
   "outputs": [
    {
     "data": {
      "text/plain": [
       "0.14785320773924018"
      ]
     },
     "execution_count": 77,
     "metadata": {},
     "output_type": "execute_result"
    }
   ],
   "source": [
    "np.average(list(r.values()))"
   ]
  },
  {
   "cell_type": "code",
   "execution_count": null,
   "id": "a417c6d7",
   "metadata": {
    "scrolled": true
   },
   "outputs": [
    {
     "data": {
      "application/vnd.jupyter.widget-view+json": {
       "model_id": "",
       "version_major": 2,
       "version_minor": 0
      },
      "text/plain": [
       "HBox(children=(FloatProgress(value=0.0, description='Stats project', max=1.0, style=ProgressStyle(description_…"
      ]
     },
     "metadata": {},
     "output_type": "display_data"
    },
    {
     "data": {
      "application/vnd.jupyter.widget-view+json": {
       "model_id": "",
       "version_major": 2,
       "version_minor": 0
      },
      "text/plain": [
       "HBox(children=(FloatProgress(value=0.0, description='Stats document', max=904.0, style=ProgressStyle(descripti…"
      ]
     },
     "metadata": {},
     "output_type": "display_data"
    },
    {
     "name": "stdout",
     "output_type": "stream",
     "text": [
      "Epoch: 0, Prec: 0.5780952380952381, Rec: 0.13839489284085726, F1: 0.22332597498160411\n",
      "\n",
      "Docs with false positives: unk\n",
      "\n",
      "Docs with false negatives: unk\n",
      "\n",
      "\n",
      "\n",
      "False Positives\n",
      "\n",
      "Associated with                                                        - C0332281             -        128\n",
      "Analysis                                                               - C0936012             -         67\n",
      "Genes                                                                  - C0017337             -         67\n",
      "quantitative~concept                                                   - C0392762             -         30\n",
      "Study                                                                  - C2603343             -         30\n",
      "Groups                                                                 - C0441833             -         22\n",
      "Levels                                                                 - C0441889             -         21\n",
      "Data                                                                   - C1511726             -         18\n",
      "Finding                                                                - C0243095             -         17\n",
      "Patients                                                               - C0030705             -         17\n",
      "\n",
      "\n",
      "False Negatives\n",
      "\n",
      "Patients                                                               - C0030705             -        997\n",
      "Study                                                                  - C2603343             -        432\n",
      "Finding                                                                - C0243095             -        398\n",
      "Therapeutic procedure                                                  - C0087111             -        315\n",
      "Groups                                                                 - C0441833             -        263\n",
      "quantitative~concept                                                   - C0392762             -        237\n",
      "Result                                                                 - C1274040             -        224\n",
      "qualitative                                                            - C0205556             -        215\n",
      "Genes                                                                  - C0017337             -        183\n",
      "Analysis                                                               - C0936012             -        179\n",
      "\n",
      "\n",
      "True Positives\n",
      "\n",
      "Associated with                                                        - C0332281             -        258\n",
      "Patients                                                               - C0030705             -        166\n",
      "Analysis                                                               - C0936012             -         52\n",
      "Genes                                                                  - C0017337             -         24\n",
      "Data                                                                   - C1511726             -         21\n",
      "Levels                                                                 - C0441889             -         20\n",
      "Study                                                                  - C2603343             -         20\n",
      "quantitative~concept                                                   - C0392762             -         15\n",
      "Groups                                                                 - C0441833             -         13\n",
      "Finding                                                                - C0243095             -          6\n",
      "**************************************************************************************************************\n",
      "\n"
     ]
    },
    {
     "data": {
      "application/vnd.jupyter.widget-view+json": {
       "model_id": "0e40e845e4834ef48e081e236f6c4e4c",
       "version_major": 2,
       "version_minor": 0
      },
      "text/plain": [
       "HBox(children=(FloatProgress(value=0.0, description='Epoch', max=5.0, style=ProgressStyle(description_width='i…"
      ]
     },
     "metadata": {},
     "output_type": "display_data"
    },
    {
     "data": {
      "application/vnd.jupyter.widget-view+json": {
       "model_id": "",
       "version_major": 2,
       "version_minor": 0
      },
      "text/plain": [
       "HBox(children=(FloatProgress(value=0.0, description='Project', max=1.0, style=ProgressStyle(description_width=…"
      ]
     },
     "metadata": {},
     "output_type": "display_data"
    },
    {
     "data": {
      "application/vnd.jupyter.widget-view+json": {
       "model_id": "",
       "version_major": 2,
       "version_minor": 0
      },
      "text/plain": [
       "HBox(children=(FloatProgress(value=0.0, description='Document', max=3488.0, style=ProgressStyle(description_wi…"
      ]
     },
     "metadata": {},
     "output_type": "display_data"
    },
    {
     "data": {
      "application/vnd.jupyter.widget-view+json": {
       "model_id": "",
       "version_major": 2,
       "version_minor": 0
      },
      "text/plain": [
       "HBox(children=(FloatProgress(value=0.0, description='Stats project', max=1.0, style=ProgressStyle(description_…"
      ]
     },
     "metadata": {},
     "output_type": "display_data"
    },
    {
     "data": {
      "application/vnd.jupyter.widget-view+json": {
       "model_id": "",
       "version_major": 2,
       "version_minor": 0
      },
      "text/plain": [
       "HBox(children=(FloatProgress(value=0.0, description='Stats document', max=904.0, style=ProgressStyle(descripti…"
      ]
     },
     "metadata": {},
     "output_type": "display_data"
    },
    {
     "name": "stdout",
     "output_type": "stream",
     "text": [
      "Epoch: 1, Prec: 0.14211269134730214, Rec: 0.29844961240310075, F1: 0.19254247260425095\n",
      "\n",
      "Docs with false positives: unk\n",
      "\n",
      "Docs with false negatives: unk\n",
      "\n",
      "\n",
      "\n",
      "False Positives\n",
      "\n",
      "sophisticated                                                          - C0205556             -       2909\n",
      "sos                                                                    - C0392762             -       1664\n",
      "Therapeutic procedure                                                  - C0087111             -       1055\n",
      "Finding                                                                - C0243095             -        905\n",
      "Patients                                                               - C0030705             -        779\n",
      "Genes                                                                  - C0017337             -        197\n",
      "Analysis                                                               - C0936012             -         73\n",
      "Study                                                                  - C2603343             -         73\n",
      "Result                                                                 - C1274040             -         69\n",
      "Data                                                                   - C1511726             -         58\n",
      "\n",
      "\n",
      "False Negatives\n",
      "\n",
      "Patients                                                               - C0030705             -        462\n",
      "Study                                                                  - C2603343             -        392\n",
      "Finding                                                                - C0243095             -        336\n",
      "Associated with                                                        - C0332281             -        268\n",
      "Groups                                                                 - C0441833             -        263\n",
      "sos                                                                    - C0392762             -        222\n",
      "Result                                                                 - C1274040             -        209\n",
      "Analysis                                                               - C0936012             -        204\n",
      "sophisticated                                                          - C0205556             -        182\n",
      "Genes                                                                  - C0017337             -        159\n",
      "\n",
      "\n",
      "True Positives\n",
      "\n",
      "Patients                                                               - C0030705             -        701\n",
      "Therapeutic procedure                                                  - C0087111             -        233\n",
      "Finding                                                                - C0243095             -         68\n",
      "Study                                                                  - C2603343             -         60\n",
      "Genes                                                                  - C0017337             -         48\n",
      "Data                                                                   - C1511726             -         46\n",
      "sophisticated                                                          - C0205556             -         36\n",
      "sos                                                                    - C0392762             -         30\n",
      "Analysis                                                               - C0936012             -         27\n",
      "Levels                                                                 - C0441889             -         23\n",
      "**************************************************************************************************************\n",
      "\n"
     ]
    },
    {
     "data": {
      "application/vnd.jupyter.widget-view+json": {
       "model_id": "",
       "version_major": 2,
       "version_minor": 0
      },
      "text/plain": [
       "HBox(children=(FloatProgress(value=0.0, description='Project', max=1.0, style=ProgressStyle(description_width=…"
      ]
     },
     "metadata": {},
     "output_type": "display_data"
    },
    {
     "data": {
      "application/vnd.jupyter.widget-view+json": {
       "model_id": "",
       "version_major": 2,
       "version_minor": 0
      },
      "text/plain": [
       "HBox(children=(FloatProgress(value=0.0, description='Document', max=3488.0, style=ProgressStyle(description_wi…"
      ]
     },
     "metadata": {},
     "output_type": "display_data"
    },
    {
     "data": {
      "application/vnd.jupyter.widget-view+json": {
       "model_id": "",
       "version_major": 2,
       "version_minor": 0
      },
      "text/plain": [
       "HBox(children=(FloatProgress(value=0.0, description='Stats project', max=1.0, style=ProgressStyle(description_…"
      ]
     },
     "metadata": {},
     "output_type": "display_data"
    },
    {
     "data": {
      "application/vnd.jupyter.widget-view+json": {
       "model_id": "",
       "version_major": 2,
       "version_minor": 0
      },
      "text/plain": [
       "HBox(children=(FloatProgress(value=0.0, description='Stats document', max=904.0, style=ProgressStyle(descripti…"
      ]
     },
     "metadata": {},
     "output_type": "display_data"
    },
    {
     "name": "stdout",
     "output_type": "stream",
     "text": [
      "Epoch: 2, Prec: 0.14255409418752651, Rec: 0.3831242873432155, F1: 0.20779220779220783\n",
      "\n",
      "Docs with false positives: unk\n",
      "\n",
      "Docs with false negatives: unk\n",
      "\n",
      "\n",
      "\n",
      "False Positives\n",
      "\n",
      "sophisticated                                                          - C0205556             -       3287\n",
      "sos                                                                    - C0392762             -       1677\n",
      "Finding                                                                - C0243095             -       1606\n",
      "Patients                                                               - C0030705             -       1437\n",
      "Therapeutic procedure                                                  - C0087111             -       1052\n",
      "Genes                                                                  - C0017337             -        302\n",
      "Study                                                                  - C2603343             -        161\n",
      "Result                                                                 - C1274040             -        159\n",
      "Analysis                                                               - C0936012             -        133\n",
      "Data                                                                   - C1511726             -        103\n",
      "\n",
      "\n",
      "False Negatives\n",
      "\n",
      "Study                                                                  - C2603343             -        337\n",
      "Finding                                                                - C0243095             -        326\n",
      "Patients                                                               - C0030705             -        273\n",
      "Groups                                                                 - C0441833             -        263\n",
      "Associated with                                                        - C0332281             -        262\n",
      "sos                                                                    - C0392762             -        215\n",
      "Result                                                                 - C1274040             -        192\n",
      "Analysis                                                               - C0936012             -        188\n",
      "sophisticated                                                          - C0205556             -        180\n",
      "Genes                                                                  - C0017337             -        142\n",
      "\n",
      "\n",
      "True Positives\n",
      "\n",
      "Patients                                                               - C0030705             -        889\n",
      "Therapeutic procedure                                                  - C0087111             -        235\n",
      "Study                                                                  - C2603343             -        115\n",
      "Finding                                                                - C0243095             -         78\n",
      "Data                                                                   - C1511726             -         78\n",
      "Genes                                                                  - C0017337             -         65\n",
      "Analysis                                                               - C0936012             -         43\n",
      "Levels                                                                 - C0441889             -         42\n",
      "sophisticated                                                          - C0205556             -         38\n",
      "sos                                                                    - C0392762             -         37\n",
      "**************************************************************************************************************\n",
      "\n"
     ]
    },
    {
     "data": {
      "application/vnd.jupyter.widget-view+json": {
       "model_id": "",
       "version_major": 2,
       "version_minor": 0
      },
      "text/plain": [
       "HBox(children=(FloatProgress(value=0.0, description='Project', max=1.0, style=ProgressStyle(description_width=…"
      ]
     },
     "metadata": {},
     "output_type": "display_data"
    },
    {
     "data": {
      "application/vnd.jupyter.widget-view+json": {
       "model_id": "",
       "version_major": 2,
       "version_minor": 0
      },
      "text/plain": [
       "HBox(children=(FloatProgress(value=0.0, description='Document', max=3488.0, style=ProgressStyle(description_wi…"
      ]
     },
     "metadata": {},
     "output_type": "display_data"
    },
    {
     "data": {
      "application/vnd.jupyter.widget-view+json": {
       "model_id": "",
       "version_major": 2,
       "version_minor": 0
      },
      "text/plain": [
       "HBox(children=(FloatProgress(value=0.0, description='Stats project', max=1.0, style=ProgressStyle(description_…"
      ]
     },
     "metadata": {},
     "output_type": "display_data"
    },
    {
     "data": {
      "application/vnd.jupyter.widget-view+json": {
       "model_id": "",
       "version_major": 2,
       "version_minor": 0
      },
      "text/plain": [
       "HBox(children=(FloatProgress(value=0.0, description='Stats document', max=904.0, style=ProgressStyle(descripti…"
      ]
     },
     "metadata": {},
     "output_type": "display_data"
    },
    {
     "name": "stdout",
     "output_type": "stream",
     "text": [
      "Epoch: 3, Prec: 0.14423221537073244, Rec: 0.43740022805017104, F1: 0.21693151614545045\n",
      "\n",
      "Docs with false positives: unk\n",
      "\n",
      "Docs with false negatives: unk\n",
      "\n",
      "\n",
      "\n",
      "False Positives\n",
      "\n",
      "sophisticated                                                          - C0205556             -       3417\n",
      "Finding                                                                - C0243095             -       1932\n",
      "sos                                                                    - C0392762             -       1728\n",
      "Patients                                                               - C0030705             -       1662\n",
      "Therapeutic procedure                                                  - C0087111             -       1049\n",
      "Genes                                                                  - C0017337             -        386\n",
      "Result                                                                 - C1274040             -        281\n",
      "Study                                                                  - C2603343             -        267\n",
      "Analysis                                                               - C0936012             -        209\n",
      "Data                                                                   - C1511726             -        137\n",
      "\n",
      "\n",
      "False Negatives\n",
      "\n",
      "Finding                                                                - C0243095             -        312\n",
      "Groups                                                                 - C0441833             -        258\n",
      "Study                                                                  - C2603343             -        257\n",
      "Patients                                                               - C0030705             -        254\n",
      "Associated with                                                        - C0332281             -        251\n",
      "sos                                                                    - C0392762             -        207\n",
      "sophisticated                                                          - C0205556             -        181\n",
      "Analysis                                                               - C0936012             -        176\n",
      "Result                                                                 - C1274040             -        171\n",
      "Genes                                                                  - C0017337             -        129\n",
      "\n",
      "\n",
      "True Positives\n",
      "\n",
      "Patients                                                               - C0030705             -        908\n",
      "Therapeutic procedure                                                  - C0087111             -        235\n",
      "Study                                                                  - C2603343             -        195\n",
      "Data                                                                   - C1511726             -        116\n",
      "Finding                                                                - C0243095             -         92\n",
      "Genes                                                                  - C0017337             -         78\n",
      "Levels                                                                 - C0441889             -         60\n",
      "Result                                                                 - C1274040             -         57\n",
      "Analysis                                                               - C0936012             -         55\n",
      "sos                                                                    - C0392762             -         45\n",
      "**************************************************************************************************************\n",
      "\n"
     ]
    },
    {
     "data": {
      "application/vnd.jupyter.widget-view+json": {
       "model_id": "01ffb2ad04f34b8e8c208c094c50fb3c",
       "version_major": 2,
       "version_minor": 0
      },
      "text/plain": [
       "HBox(children=(FloatProgress(value=0.0, description='Project', max=1.0, style=ProgressStyle(description_width=…"
      ]
     },
     "metadata": {},
     "output_type": "display_data"
    },
    {
     "data": {
      "application/vnd.jupyter.widget-view+json": {
       "model_id": "bf196879d9324569912837f443e7a949",
       "version_major": 2,
       "version_minor": 0
      },
      "text/plain": [
       "HBox(children=(FloatProgress(value=0.0, description='Document', max=3488.0, style=ProgressStyle(description_wi…"
      ]
     },
     "metadata": {},
     "output_type": "display_data"
    }
   ],
   "source": [
    "fp, fn, tp, p, r, f1, cui_counts, examples = cat.train_supervised(data_path=DATA_PATH, print_stats=1, nepochs=5, test_size=0.2, devalue_others=True,\n",
    "                         train_from_false_positives=True)"
   ]
  },
  {
   "cell_type": "code",
   "execution_count": 22,
   "id": "da0ea098",
   "metadata": {},
   "outputs": [
    {
     "data": {
      "text/plain": [
       "0.43076030010032723"
      ]
     },
     "execution_count": 22,
     "metadata": {},
     "output_type": "execute_result"
    }
   ],
   "source": [
    "np.average(list(f1.values()))"
   ]
  },
  {
   "cell_type": "code",
   "execution_count": null,
   "id": "5865d298",
   "metadata": {},
   "outputs": [],
   "source": [
    "np.average(list(p.values()))"
   ]
  },
  {
   "cell_type": "code",
   "execution_count": null,
   "id": "ae6a8e30",
   "metadata": {},
   "outputs": [],
   "source": [
    "np.average(list(r.values()))"
   ]
  },
  {
   "cell_type": "code",
   "execution_count": 20,
   "id": "0343ba1c",
   "metadata": {},
   "outputs": [],
   "source": [
    "cat.config.linking['similarity_threshold'] = 0.2"
   ]
  }
 ],
 "metadata": {
  "kernelspec": {
   "display_name": "Python 3",
   "language": "python",
   "name": "python3"
  },
  "language_info": {
   "codemirror_mode": {
    "name": "ipython",
    "version": 3
   },
   "file_extension": ".py",
   "mimetype": "text/x-python",
   "name": "python",
   "nbconvert_exporter": "python",
   "pygments_lexer": "ipython3",
   "version": "3.8.0"
  }
 },
 "nbformat": 4,
 "nbformat_minor": 5
}
