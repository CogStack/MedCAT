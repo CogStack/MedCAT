{
 "cells": [
  {
   "cell_type": "code",
   "execution_count": 1,
   "id": "f55761b7",
   "metadata": {},
   "outputs": [],
   "source": [
    "BASE_PATH = '/home/wish/'"
   ]
  },
  {
   "cell_type": "code",
   "execution_count": 2,
   "id": "690019ab",
   "metadata": {},
   "outputs": [],
   "source": [
    "import sys\n",
    "sys.path.insert(0, BASE_PATH + \"projects/medflux/\")\n",
    "sys.path.insert(0, BASE_PATH + \"projects/MedCAT/\")\n",
    "\n",
    "%load_ext autoreload\n",
    "%autoreload 2"
   ]
  },
  {
   "cell_type": "code",
   "execution_count": 3,
   "id": "6dda90d7",
   "metadata": {},
   "outputs": [],
   "source": [
    "import json\n",
    "import pandas as pd\n",
    "import numpy as np\n",
    "import os\n",
    "\n",
    "import datasets\n",
    "\n",
    "from transformers import AutoTokenizer, AutoModelForTokenClassification, Trainer, TrainingArguments\n",
    "\n",
    "from medcat.datasets import medcat_ner\n",
    "from medcat.datasets.tokenizer_ner import TokenizerNER\n",
    "from medcat.datasets.data_collator import CollateAndPadNER"
   ]
  },
  {
   "cell_type": "code",
   "execution_count": 4,
   "id": "f7b50e3d",
   "metadata": {},
   "outputs": [],
   "source": [
    "DATA_PATH = BASE_PATH + \"data/mimic/mimic.json\""
   ]
  },
  {
   "cell_type": "code",
   "execution_count": 5,
   "id": "758ba021",
   "metadata": {},
   "outputs": [],
   "source": [
    "data = json.load(open(DATA_PATH))"
   ]
  },
  {
   "cell_type": "code",
   "execution_count": 6,
   "id": "2ddd7e83",
   "metadata": {},
   "outputs": [],
   "source": [
    "cnts = {}\n",
    "for p in data['projects']:\n",
    "    for d in p['documents']:\n",
    "        for a in d['annotations']:\n",
    "            cnts[a['cui']] = cnts.get(a['cui'], 0) + 1"
   ]
  },
  {
   "cell_type": "markdown",
   "id": "17427108",
   "metadata": {},
   "source": [
    "### Subset to frequent concepts - for testing"
   ]
  },
  {
   "cell_type": "code",
   "execution_count": 7,
   "id": "0de855fb",
   "metadata": {},
   "outputs": [],
   "source": [
    "MIN_FREQ = 50\n",
    "for p in data['projects']:\n",
    "    for d in p['documents']:\n",
    "        anns = []\n",
    "        for a in d['annotations']:\n",
    "            if cnts[a['cui']] > MIN_FREQ:\n",
    "                anns.append(a)\n",
    "        d['annotations'] = anns"
   ]
  },
  {
   "cell_type": "code",
   "execution_count": 8,
   "id": "873db9fe",
   "metadata": {},
   "outputs": [],
   "source": [
    "DATA_PATH = BASE_PATH + \"data/mimic/mimic_only_above_50.json\"\n",
    "json.dump(data, open(DATA_PATH, 'w'))"
   ]
  },
  {
   "cell_type": "code",
   "execution_count": 9,
   "id": "85f92838",
   "metadata": {
    "scrolled": true
   },
   "outputs": [
    {
     "name": "stderr",
     "output_type": "stream",
     "text": [
      "Using custom data configuration default-337cf20d3b0a77fe\n"
     ]
    },
    {
     "name": "stdout",
     "output_type": "stream",
     "text": [
      "Downloading and preparing dataset med_catner/default (download: Unknown size, generated: Unknown size, post-processed: Unknown size, total: Unknown size) to /home/wish/.cache/huggingface/datasets/med_catner/default-337cf20d3b0a77fe/0.0.0/98e55c8f8beecf808ac4eaeb3a37a07e036655af8378f121808fe338b5a86b4a...\n"
     ]
    },
    {
     "data": {
      "application/vnd.jupyter.widget-view+json": {
       "model_id": "",
       "version_major": 2,
       "version_minor": 0
      },
      "text/plain": [
       "HBox(children=(FloatProgress(value=1.0, bar_style='info', layout=Layout(width='20px'), max=1.0), HTML(value=''…"
      ]
     },
     "metadata": {},
     "output_type": "display_data"
    },
    {
     "name": "stdout",
     "output_type": "stream",
     "text": [
      "Dataset med_catner downloaded and prepared to /home/wish/.cache/huggingface/datasets/med_catner/default-337cf20d3b0a77fe/0.0.0/98e55c8f8beecf808ac4eaeb3a37a07e036655af8378f121808fe338b5a86b4a. Subsequent calls will reuse this data.\n"
     ]
    }
   ],
   "source": [
    "dataset = datasets.load_dataset(os.path.abspath(medcat_ner.__file__), \n",
    "                                data_files=DATA_PATH, \n",
    "                                split=datasets.Split.TRAIN)"
   ]
  },
  {
   "cell_type": "code",
   "execution_count": 10,
   "id": "94a27347",
   "metadata": {},
   "outputs": [],
   "source": [
    "hf_tokenizer = AutoTokenizer.from_pretrained(\"emilyalsentzer/Bio_ClinicalBERT\")"
   ]
  },
  {
   "cell_type": "code",
   "execution_count": 11,
   "id": "736f8c2c",
   "metadata": {},
   "outputs": [],
   "source": [
    "id2type = {}\n",
    "for i in range(hf_tokenizer.vocab_size):\n",
    "    id2type[i] = 'sub' if hf_tokenizer.convert_ids_to_tokens(i).startswith(\"##\") else 'start'"
   ]
  },
  {
   "cell_type": "code",
   "execution_count": 12,
   "id": "dfbcaa4a",
   "metadata": {},
   "outputs": [],
   "source": [
    "tokenizer = TokenizerNER(hf_tokenizer, id2type=id2type)"
   ]
  },
  {
   "cell_type": "code",
   "execution_count": 13,
   "id": "61885c20",
   "metadata": {},
   "outputs": [
    {
     "data": {
      "application/vnd.jupyter.widget-view+json": {
       "model_id": "1472aed3a50a47edbd5d687fcd7fcd18",
       "version_major": 2,
       "version_minor": 0
      },
      "text/plain": [
       "HBox(children=(FloatProgress(value=0.0, max=1.0), HTML(value='')))"
      ]
     },
     "metadata": {},
     "output_type": "display_data"
    },
    {
     "name": "stdout",
     "output_type": "stream",
     "text": [
      "\n"
     ]
    }
   ],
   "source": [
    "encoded_dataset = dataset.map(\n",
    "        lambda examples: tokenizer.encode(examples, use_subwords=True),\n",
    "        batched=True,\n",
    "        remove_columns=['ent_cuis', 'ent_ends', 'ent_starts', 'text'])"
   ]
  },
  {
   "cell_type": "code",
   "execution_count": 14,
   "id": "0baedbf4",
   "metadata": {},
   "outputs": [
    {
     "name": "stderr",
     "output_type": "stream",
     "text": [
      "Some weights of the model checkpoint at emilyalsentzer/Bio_ClinicalBERT were not used when initializing BertForTokenClassification: ['cls.predictions.bias', 'cls.predictions.transform.dense.weight', 'cls.predictions.transform.dense.bias', 'cls.predictions.transform.LayerNorm.weight', 'cls.predictions.transform.LayerNorm.bias', 'cls.predictions.decoder.weight', 'cls.seq_relationship.weight', 'cls.seq_relationship.bias']\n",
      "- This IS expected if you are initializing BertForTokenClassification from the checkpoint of a model trained on another task or with another architecture (e.g. initializing a BertForSequenceClassification model from a BertForPreTraining model).\n",
      "- This IS NOT expected if you are initializing BertForTokenClassification from the checkpoint of a model that you expect to be exactly identical (initializing a BertForSequenceClassification model from a BertForSequenceClassification model).\n",
      "Some weights of BertForTokenClassification were not initialized from the model checkpoint at emilyalsentzer/Bio_ClinicalBERT and are newly initialized: ['classifier.weight', 'classifier.bias']\n",
      "You should probably TRAIN this model on a down-stream task to be able to use it for predictions and inference.\n"
     ]
    }
   ],
   "source": [
    "model = AutoModelForTokenClassification.from_pretrained(\"emilyalsentzer/Bio_ClinicalBERT\", num_labels=len(tokenizer.label_map))"
   ]
  },
  {
   "cell_type": "code",
   "execution_count": 15,
   "id": "c29bf681",
   "metadata": {},
   "outputs": [],
   "source": [
    "encoded_dataset = encoded_dataset.train_test_split(test_size = 0.2)"
   ]
  },
  {
   "cell_type": "code",
   "execution_count": 16,
   "id": "3987164a",
   "metadata": {},
   "outputs": [],
   "source": [
    "collate_fn = CollateAndPadNER(hf_tokenizer.pad_token_id)"
   ]
  },
  {
   "cell_type": "code",
   "execution_count": 17,
   "id": "11423ebc",
   "metadata": {},
   "outputs": [],
   "source": [
    "training_args = TrainingArguments(\n",
    "    output_dir='./results',          # output directory\n",
    "    num_train_epochs=10,              # total number of training epochs\n",
    "    per_device_train_batch_size=4,  # batch size per device during training\n",
    "    per_device_eval_batch_size=4,   # batch size for evaluation\n",
    "    weight_decay=0.1431478776404838,               # strength of weight decay\n",
    "    logging_dir='./logs',            # directory for storing logs\n",
    "    logging_steps=200,\n",
    "    eval_steps=100,\n",
    "    warmup_steps=15,\n",
    "    learning_rate= 4.4670352057797207e-05,\n",
    "    eval_accumulation_steps=1,\n",
    "    do_eval=True,\n",
    "    evaluation_strategy='steps',\n",
    "    load_best_model_at_end=True,\n",
    ")"
   ]
  },
  {
   "cell_type": "code",
   "execution_count": 18,
   "id": "a8bc2c7e",
   "metadata": {},
   "outputs": [],
   "source": [
    "from sklearn.metrics import classification_report\n",
    "def metrics(p):\n",
    "    preds = np.argmax(p.predictions, axis=2)\n",
    "    print(preds)\n",
    "    print(classification_report(np.reshape(p.label_ids, -1), np.reshape(preds, -1)))\n",
    "    return {'none': 0}"
   ]
  },
  {
   "cell_type": "code",
   "execution_count": 19,
   "id": "27d76e21",
   "metadata": {},
   "outputs": [],
   "source": [
    "trainer = Trainer(\n",
    "    model=model,                         # the instantiated 🤗 Transformers model to be trained\n",
    "    args=training_args,                  # training arguments, defined above\n",
    "    train_dataset=encoded_dataset['train'],         # training dataset\n",
    "    eval_dataset=encoded_dataset['test'],             # evaluation dataset\n",
    "    compute_metrics=metrics,\n",
    "    data_collator=collate_fn,\n",
    "    tokenizer=None\n",
    ")"
   ]
  },
  {
   "cell_type": "code",
   "execution_count": 20,
   "id": "e4034e77",
   "metadata": {
    "scrolled": true
   },
   "outputs": [
    {
     "name": "stderr",
     "output_type": "stream",
     "text": [
      "ERROR:wandb.jupyter:Failed to detect the name of this notebook, you can set it manually with the WANDB_NOTEBOOK_NAME environment variable to enable code saving.\n",
      "\u001b[34m\u001b[1mwandb\u001b[0m: Currently logged in as: \u001b[33mwish\u001b[0m (use `wandb login --relogin` to force relogin)\n",
      "\u001b[34m\u001b[1mwandb\u001b[0m: wandb version 0.10.32 is available!  To upgrade, please run:\n",
      "\u001b[34m\u001b[1mwandb\u001b[0m:  $ pip install wandb --upgrade\n"
     ]
    },
    {
     "data": {
      "text/html": [
       "\n",
       "                Tracking run with wandb version 0.10.30<br/>\n",
       "                Syncing run <strong style=\"color:#cdcd00\">./results</strong> to <a href=\"https://wandb.ai\" target=\"_blank\">Weights & Biases</a> <a href=\"https://docs.wandb.com/integrations/jupyter.html\" target=\"_blank\">(Documentation)</a>.<br/>\n",
       "                Project page: <a href=\"https://wandb.ai/wish/huggingface\" target=\"_blank\">https://wandb.ai/wish/huggingface</a><br/>\n",
       "                Run page: <a href=\"https://wandb.ai/wish/huggingface/runs/3sgqoplw\" target=\"_blank\">https://wandb.ai/wish/huggingface/runs/3sgqoplw</a><br/>\n",
       "                Run data is saved locally in <code>/home/wish/projects/MedCAT/notebooks/wandb/run-20210625_150252-3sgqoplw</code><br/><br/>\n",
       "            "
      ],
      "text/plain": [
       "<IPython.core.display.HTML object>"
      ]
     },
     "metadata": {},
     "output_type": "display_data"
    },
    {
     "data": {
      "text/html": [
       "\n",
       "    <div>\n",
       "        <style>\n",
       "            /* Turns off some styling */\n",
       "            progress {\n",
       "                /* gets rid of default border in Firefox and Opera. */\n",
       "                border: none;\n",
       "                /* Needs to be in here for Safari polyfill so background images work as expected. */\n",
       "                background-size: auto;\n",
       "            }\n",
       "        </style>\n",
       "      \n",
       "      <progress value='1170' max='1170' style='width:300px; height:20px; vertical-align: middle;'></progress>\n",
       "      [1170/1170 03:01, Epoch 10/10]\n",
       "    </div>\n",
       "    <table border=\"1\" class=\"dataframe\">\n",
       "  <thead>\n",
       "    <tr style=\"text-align: left;\">\n",
       "      <th>Step</th>\n",
       "      <th>Training Loss</th>\n",
       "      <th>Validation Loss</th>\n",
       "      <th>None</th>\n",
       "      <th>Runtime</th>\n",
       "      <th>Samples Per Second</th>\n",
       "    </tr>\n",
       "  </thead>\n",
       "  <tbody>\n",
       "    <tr>\n",
       "      <td>100</td>\n",
       "      <td>No log</td>\n",
       "      <td>0.020473</td>\n",
       "      <td>0</td>\n",
       "      <td>0.918400</td>\n",
       "      <td>127.396000</td>\n",
       "    </tr>\n",
       "    <tr>\n",
       "      <td>200</td>\n",
       "      <td>0.140100</td>\n",
       "      <td>0.011691</td>\n",
       "      <td>0</td>\n",
       "      <td>0.925800</td>\n",
       "      <td>126.371000</td>\n",
       "    </tr>\n",
       "    <tr>\n",
       "      <td>300</td>\n",
       "      <td>0.140100</td>\n",
       "      <td>0.005034</td>\n",
       "      <td>0</td>\n",
       "      <td>0.930300</td>\n",
       "      <td>125.762000</td>\n",
       "    </tr>\n",
       "    <tr>\n",
       "      <td>400</td>\n",
       "      <td>0.005400</td>\n",
       "      <td>0.003786</td>\n",
       "      <td>0</td>\n",
       "      <td>0.929700</td>\n",
       "      <td>125.851000</td>\n",
       "    </tr>\n",
       "    <tr>\n",
       "      <td>500</td>\n",
       "      <td>0.005400</td>\n",
       "      <td>0.003610</td>\n",
       "      <td>0</td>\n",
       "      <td>0.938000</td>\n",
       "      <td>124.729000</td>\n",
       "    </tr>\n",
       "    <tr>\n",
       "      <td>600</td>\n",
       "      <td>0.001700</td>\n",
       "      <td>0.003689</td>\n",
       "      <td>0</td>\n",
       "      <td>0.944400</td>\n",
       "      <td>123.883000</td>\n",
       "    </tr>\n",
       "    <tr>\n",
       "      <td>700</td>\n",
       "      <td>0.001700</td>\n",
       "      <td>0.003948</td>\n",
       "      <td>0</td>\n",
       "      <td>0.938700</td>\n",
       "      <td>124.647000</td>\n",
       "    </tr>\n",
       "    <tr>\n",
       "      <td>800</td>\n",
       "      <td>0.000800</td>\n",
       "      <td>0.003729</td>\n",
       "      <td>0</td>\n",
       "      <td>0.944900</td>\n",
       "      <td>123.817000</td>\n",
       "    </tr>\n",
       "    <tr>\n",
       "      <td>900</td>\n",
       "      <td>0.000800</td>\n",
       "      <td>0.003710</td>\n",
       "      <td>0</td>\n",
       "      <td>0.933400</td>\n",
       "      <td>125.349000</td>\n",
       "    </tr>\n",
       "    <tr>\n",
       "      <td>1000</td>\n",
       "      <td>0.000400</td>\n",
       "      <td>0.003598</td>\n",
       "      <td>0</td>\n",
       "      <td>0.930100</td>\n",
       "      <td>125.796000</td>\n",
       "    </tr>\n",
       "    <tr>\n",
       "      <td>1100</td>\n",
       "      <td>0.000400</td>\n",
       "      <td>0.003587</td>\n",
       "      <td>0</td>\n",
       "      <td>0.931400</td>\n",
       "      <td>125.622000</td>\n",
       "    </tr>\n",
       "  </tbody>\n",
       "</table><p>"
      ],
      "text/plain": [
       "<IPython.core.display.HTML object>"
      ]
     },
     "metadata": {},
     "output_type": "display_data"
    },
    {
     "name": "stdout",
     "output_type": "stream",
     "text": [
      "[[0 0 0 ... 0 0 0]\n",
      " [0 0 0 ... 0 0 0]\n",
      " [0 0 0 ... 0 0 0]\n",
      " ...\n",
      " [0 0 0 ... 0 0 0]\n",
      " [0 0 0 ... 0 0 0]\n",
      " [0 1 0 ... 0 0 0]]\n",
      "              precision    recall  f1-score   support\n",
      "\n",
      "        -100       0.00      0.00      0.00     16394\n",
      "           0       0.69      1.00      0.82     34257\n",
      "           1       0.89      1.00      0.94      9127\n",
      "           2       0.00      0.00      0.00        30\n",
      "           3       0.00      0.00      0.00        18\n",
      "           4       0.00      0.00      0.00        27\n",
      "           5       0.00      0.00      0.00        19\n",
      "           6       0.00      0.00      0.00        22\n",
      "           7       0.00      0.00      0.00        10\n",
      "\n",
      "    accuracy                           0.72     59904\n",
      "   macro avg       0.18      0.22      0.20     59904\n",
      "weighted avg       0.53      0.72      0.61     59904\n",
      "\n"
     ]
    },
    {
     "name": "stderr",
     "output_type": "stream",
     "text": [
      "/home/wish/.venv/play/lib/python3.8/site-packages/sklearn/metrics/_classification.py:1248: UndefinedMetricWarning: Precision and F-score are ill-defined and being set to 0.0 in labels with no predicted samples. Use `zero_division` parameter to control this behavior.\n",
      "  _warn_prf(average, modifier, msg_start, len(result))\n",
      "/home/wish/.venv/play/lib/python3.8/site-packages/sklearn/metrics/_classification.py:1248: UndefinedMetricWarning: Precision and F-score are ill-defined and being set to 0.0 in labels with no predicted samples. Use `zero_division` parameter to control this behavior.\n",
      "  _warn_prf(average, modifier, msg_start, len(result))\n",
      "/home/wish/.venv/play/lib/python3.8/site-packages/sklearn/metrics/_classification.py:1248: UndefinedMetricWarning: Precision and F-score are ill-defined and being set to 0.0 in labels with no predicted samples. Use `zero_division` parameter to control this behavior.\n",
      "  _warn_prf(average, modifier, msg_start, len(result))\n"
     ]
    },
    {
     "name": "stdout",
     "output_type": "stream",
     "text": [
      "[[0 0 0 ... 0 0 0]\n",
      " [0 0 0 ... 0 0 0]\n",
      " [0 0 0 ... 0 0 0]\n",
      " ...\n",
      " [0 0 0 ... 0 0 0]\n",
      " [0 0 0 ... 0 0 0]\n",
      " [0 1 0 ... 0 0 0]]\n",
      "              precision    recall  f1-score   support\n",
      "\n",
      "        -100       0.00      0.00      0.00     16394\n",
      "           0       0.69      1.00      0.82     34257\n",
      "           1       0.89      1.00      0.94      9127\n",
      "           2       0.48      0.80      0.60        30\n",
      "           3       0.14      0.94      0.24        18\n",
      "           4       0.50      0.04      0.07        27\n",
      "           5       1.00      0.11      0.19        19\n",
      "           6       0.00      0.00      0.00        22\n",
      "           7       0.00      0.00      0.00        10\n",
      "\n",
      "    accuracy                           0.72     59904\n",
      "   macro avg       0.41      0.43      0.32     59904\n",
      "weighted avg       0.53      0.72      0.61     59904\n",
      "\n"
     ]
    },
    {
     "name": "stderr",
     "output_type": "stream",
     "text": [
      "/home/wish/.venv/play/lib/python3.8/site-packages/sklearn/metrics/_classification.py:1248: UndefinedMetricWarning: Precision and F-score are ill-defined and being set to 0.0 in labels with no predicted samples. Use `zero_division` parameter to control this behavior.\n",
      "  _warn_prf(average, modifier, msg_start, len(result))\n",
      "/home/wish/.venv/play/lib/python3.8/site-packages/sklearn/metrics/_classification.py:1248: UndefinedMetricWarning: Precision and F-score are ill-defined and being set to 0.0 in labels with no predicted samples. Use `zero_division` parameter to control this behavior.\n",
      "  _warn_prf(average, modifier, msg_start, len(result))\n",
      "/home/wish/.venv/play/lib/python3.8/site-packages/sklearn/metrics/_classification.py:1248: UndefinedMetricWarning: Precision and F-score are ill-defined and being set to 0.0 in labels with no predicted samples. Use `zero_division` parameter to control this behavior.\n",
      "  _warn_prf(average, modifier, msg_start, len(result))\n"
     ]
    },
    {
     "name": "stdout",
     "output_type": "stream",
     "text": [
      "[[1 0 0 ... 0 0 1]\n",
      " [0 0 0 ... 0 0 0]\n",
      " [0 0 0 ... 0 0 0]\n",
      " ...\n",
      " [0 0 0 ... 0 0 0]\n",
      " [0 0 0 ... 0 0 0]\n",
      " [0 1 0 ... 0 0 0]]\n",
      "              precision    recall  f1-score   support\n",
      "\n",
      "        -100       0.00      0.00      0.00     16394\n",
      "           0       0.71      1.00      0.83     34257\n",
      "           1       0.80      1.00      0.89      9127\n",
      "           2       0.54      1.00      0.70        30\n",
      "           3       0.24      1.00      0.38        18\n",
      "           4       0.85      0.81      0.83        27\n",
      "           5       0.61      0.89      0.72        19\n",
      "           6       0.61      0.91      0.73        22\n",
      "           7       1.00      0.50      0.67        10\n",
      "\n",
      "    accuracy                           0.73     59904\n",
      "   macro avg       0.59      0.79      0.64     59904\n",
      "weighted avg       0.53      0.73      0.61     59904\n",
      "\n"
     ]
    },
    {
     "name": "stderr",
     "output_type": "stream",
     "text": [
      "/home/wish/.venv/play/lib/python3.8/site-packages/sklearn/metrics/_classification.py:1248: UndefinedMetricWarning: Precision and F-score are ill-defined and being set to 0.0 in labels with no predicted samples. Use `zero_division` parameter to control this behavior.\n",
      "  _warn_prf(average, modifier, msg_start, len(result))\n",
      "/home/wish/.venv/play/lib/python3.8/site-packages/sklearn/metrics/_classification.py:1248: UndefinedMetricWarning: Precision and F-score are ill-defined and being set to 0.0 in labels with no predicted samples. Use `zero_division` parameter to control this behavior.\n",
      "  _warn_prf(average, modifier, msg_start, len(result))\n",
      "/home/wish/.venv/play/lib/python3.8/site-packages/sklearn/metrics/_classification.py:1248: UndefinedMetricWarning: Precision and F-score are ill-defined and being set to 0.0 in labels with no predicted samples. Use `zero_division` parameter to control this behavior.\n",
      "  _warn_prf(average, modifier, msg_start, len(result))\n"
     ]
    },
    {
     "name": "stdout",
     "output_type": "stream",
     "text": [
      "[[1 0 0 ... 0 0 1]\n",
      " [0 0 0 ... 0 0 0]\n",
      " [0 0 0 ... 0 0 0]\n",
      " ...\n",
      " [0 0 0 ... 0 0 0]\n",
      " [0 0 0 ... 0 0 0]\n",
      " [0 1 0 ... 0 0 0]]\n",
      "              precision    recall  f1-score   support\n",
      "\n",
      "        -100       0.00      0.00      0.00     16394\n",
      "           0       0.70      1.00      0.82     34257\n",
      "           1       0.86      1.00      0.92      9127\n",
      "           2       0.56      1.00      0.71        30\n",
      "           3       0.41      0.61      0.49        18\n",
      "           4       0.68      0.85      0.75        27\n",
      "           5       0.70      0.84      0.76        19\n",
      "           6       0.43      0.91      0.59        22\n",
      "           7       0.83      1.00      0.91        10\n",
      "\n",
      "    accuracy                           0.73     59904\n",
      "   macro avg       0.57      0.80      0.66     59904\n",
      "weighted avg       0.53      0.73      0.61     59904\n",
      "\n"
     ]
    },
    {
     "name": "stderr",
     "output_type": "stream",
     "text": [
      "/home/wish/.venv/play/lib/python3.8/site-packages/sklearn/metrics/_classification.py:1248: UndefinedMetricWarning: Precision and F-score are ill-defined and being set to 0.0 in labels with no predicted samples. Use `zero_division` parameter to control this behavior.\n",
      "  _warn_prf(average, modifier, msg_start, len(result))\n",
      "/home/wish/.venv/play/lib/python3.8/site-packages/sklearn/metrics/_classification.py:1248: UndefinedMetricWarning: Precision and F-score are ill-defined and being set to 0.0 in labels with no predicted samples. Use `zero_division` parameter to control this behavior.\n",
      "  _warn_prf(average, modifier, msg_start, len(result))\n",
      "/home/wish/.venv/play/lib/python3.8/site-packages/sklearn/metrics/_classification.py:1248: UndefinedMetricWarning: Precision and F-score are ill-defined and being set to 0.0 in labels with no predicted samples. Use `zero_division` parameter to control this behavior.\n",
      "  _warn_prf(average, modifier, msg_start, len(result))\n"
     ]
    },
    {
     "name": "stdout",
     "output_type": "stream",
     "text": [
      "[[1 0 0 ... 0 0 1]\n",
      " [0 0 0 ... 0 0 0]\n",
      " [0 0 0 ... 0 0 0]\n",
      " ...\n",
      " [0 0 0 ... 0 0 0]\n",
      " [0 0 0 ... 0 0 0]\n",
      " [0 1 0 ... 0 0 0]]\n",
      "              precision    recall  f1-score   support\n",
      "\n",
      "        -100       0.00      0.00      0.00     16394\n",
      "           0       0.71      1.00      0.83     34257\n",
      "           1       0.81      1.00      0.89      9127\n",
      "           2       0.54      1.00      0.70        30\n",
      "           3       0.23      0.89      0.37        18\n",
      "           4       0.72      0.85      0.78        27\n",
      "           5       0.55      0.89      0.68        19\n",
      "           6       0.42      0.91      0.57        22\n",
      "           7       0.83      1.00      0.91        10\n",
      "\n",
      "    accuracy                           0.73     59904\n",
      "   macro avg       0.53      0.84      0.64     59904\n",
      "weighted avg       0.53      0.73      0.61     59904\n",
      "\n"
     ]
    },
    {
     "name": "stderr",
     "output_type": "stream",
     "text": [
      "/home/wish/.venv/play/lib/python3.8/site-packages/sklearn/metrics/_classification.py:1248: UndefinedMetricWarning: Precision and F-score are ill-defined and being set to 0.0 in labels with no predicted samples. Use `zero_division` parameter to control this behavior.\n",
      "  _warn_prf(average, modifier, msg_start, len(result))\n",
      "/home/wish/.venv/play/lib/python3.8/site-packages/sklearn/metrics/_classification.py:1248: UndefinedMetricWarning: Precision and F-score are ill-defined and being set to 0.0 in labels with no predicted samples. Use `zero_division` parameter to control this behavior.\n",
      "  _warn_prf(average, modifier, msg_start, len(result))\n",
      "/home/wish/.venv/play/lib/python3.8/site-packages/sklearn/metrics/_classification.py:1248: UndefinedMetricWarning: Precision and F-score are ill-defined and being set to 0.0 in labels with no predicted samples. Use `zero_division` parameter to control this behavior.\n",
      "  _warn_prf(average, modifier, msg_start, len(result))\n"
     ]
    },
    {
     "name": "stdout",
     "output_type": "stream",
     "text": [
      "[[1 0 0 ... 0 0 1]\n",
      " [0 0 0 ... 0 0 0]\n",
      " [0 0 0 ... 0 0 0]\n",
      " ...\n",
      " [0 0 0 ... 0 0 0]\n",
      " [0 0 0 ... 0 0 0]\n",
      " [0 1 0 ... 0 0 0]]\n",
      "              precision    recall  f1-score   support\n",
      "\n",
      "        -100       0.00      0.00      0.00     16394\n",
      "           0       0.71      1.00      0.83     34257\n",
      "           1       0.81      1.00      0.90      9127\n",
      "           2       0.55      1.00      0.71        30\n",
      "           3       0.31      0.89      0.46        18\n",
      "           4       0.79      0.85      0.82        27\n",
      "           5       0.55      0.89      0.68        19\n",
      "           6       0.42      0.91      0.57        22\n",
      "           7       0.77      1.00      0.87        10\n",
      "\n",
      "    accuracy                           0.73     59904\n",
      "   macro avg       0.54      0.84      0.65     59904\n",
      "weighted avg       0.53      0.73      0.61     59904\n",
      "\n"
     ]
    },
    {
     "name": "stderr",
     "output_type": "stream",
     "text": [
      "/home/wish/.venv/play/lib/python3.8/site-packages/sklearn/metrics/_classification.py:1248: UndefinedMetricWarning: Precision and F-score are ill-defined and being set to 0.0 in labels with no predicted samples. Use `zero_division` parameter to control this behavior.\n",
      "  _warn_prf(average, modifier, msg_start, len(result))\n",
      "/home/wish/.venv/play/lib/python3.8/site-packages/sklearn/metrics/_classification.py:1248: UndefinedMetricWarning: Precision and F-score are ill-defined and being set to 0.0 in labels with no predicted samples. Use `zero_division` parameter to control this behavior.\n",
      "  _warn_prf(average, modifier, msg_start, len(result))\n",
      "/home/wish/.venv/play/lib/python3.8/site-packages/sklearn/metrics/_classification.py:1248: UndefinedMetricWarning: Precision and F-score are ill-defined and being set to 0.0 in labels with no predicted samples. Use `zero_division` parameter to control this behavior.\n",
      "  _warn_prf(average, modifier, msg_start, len(result))\n"
     ]
    },
    {
     "name": "stdout",
     "output_type": "stream",
     "text": [
      "[[1 0 0 ... 0 0 1]\n",
      " [0 0 0 ... 0 0 0]\n",
      " [0 0 0 ... 0 0 0]\n",
      " ...\n",
      " [0 0 0 ... 0 0 0]\n",
      " [0 0 0 ... 0 0 0]\n",
      " [0 1 0 ... 0 0 0]]\n",
      "              precision    recall  f1-score   support\n",
      "\n",
      "        -100       0.00      0.00      0.00     16394\n",
      "           0       0.69      1.00      0.82     34257\n",
      "           1       0.88      1.00      0.94      9127\n",
      "           2       0.52      1.00      0.68        30\n",
      "           3       0.30      0.89      0.45        18\n",
      "           4       0.85      0.81      0.83        27\n",
      "           5       0.46      0.89      0.61        19\n",
      "           6       0.48      0.91      0.62        22\n",
      "           7       0.83      1.00      0.91        10\n",
      "\n",
      "    accuracy                           0.73     59904\n",
      "   macro avg       0.56      0.83      0.65     59904\n",
      "weighted avg       0.53      0.73      0.61     59904\n",
      "\n"
     ]
    },
    {
     "name": "stderr",
     "output_type": "stream",
     "text": [
      "/home/wish/.venv/play/lib/python3.8/site-packages/sklearn/metrics/_classification.py:1248: UndefinedMetricWarning: Precision and F-score are ill-defined and being set to 0.0 in labels with no predicted samples. Use `zero_division` parameter to control this behavior.\n",
      "  _warn_prf(average, modifier, msg_start, len(result))\n",
      "/home/wish/.venv/play/lib/python3.8/site-packages/sklearn/metrics/_classification.py:1248: UndefinedMetricWarning: Precision and F-score are ill-defined and being set to 0.0 in labels with no predicted samples. Use `zero_division` parameter to control this behavior.\n",
      "  _warn_prf(average, modifier, msg_start, len(result))\n",
      "/home/wish/.venv/play/lib/python3.8/site-packages/sklearn/metrics/_classification.py:1248: UndefinedMetricWarning: Precision and F-score are ill-defined and being set to 0.0 in labels with no predicted samples. Use `zero_division` parameter to control this behavior.\n",
      "  _warn_prf(average, modifier, msg_start, len(result))\n"
     ]
    },
    {
     "name": "stdout",
     "output_type": "stream",
     "text": [
      "[[1 0 0 ... 0 0 1]\n",
      " [0 0 0 ... 0 0 0]\n",
      " [0 0 0 ... 0 0 0]\n",
      " ...\n",
      " [0 0 0 ... 0 0 0]\n",
      " [0 0 0 ... 0 0 0]\n",
      " [0 1 0 ... 0 0 0]]\n",
      "              precision    recall  f1-score   support\n",
      "\n",
      "        -100       0.00      0.00      0.00     16394\n",
      "           0       0.70      1.00      0.82     34257\n",
      "           1       0.84      1.00      0.91      9127\n",
      "           2       0.49      1.00      0.66        30\n",
      "           3       0.31      0.89      0.46        18\n",
      "           4       0.82      0.85      0.84        27\n",
      "           5       0.44      0.89      0.59        19\n",
      "           6       0.44      0.91      0.60        22\n",
      "           7       0.83      1.00      0.91        10\n",
      "\n",
      "    accuracy                           0.73     59904\n",
      "   macro avg       0.54      0.84      0.64     59904\n",
      "weighted avg       0.53      0.73      0.61     59904\n",
      "\n"
     ]
    },
    {
     "name": "stderr",
     "output_type": "stream",
     "text": [
      "/home/wish/.venv/play/lib/python3.8/site-packages/sklearn/metrics/_classification.py:1248: UndefinedMetricWarning: Precision and F-score are ill-defined and being set to 0.0 in labels with no predicted samples. Use `zero_division` parameter to control this behavior.\n",
      "  _warn_prf(average, modifier, msg_start, len(result))\n",
      "/home/wish/.venv/play/lib/python3.8/site-packages/sklearn/metrics/_classification.py:1248: UndefinedMetricWarning: Precision and F-score are ill-defined and being set to 0.0 in labels with no predicted samples. Use `zero_division` parameter to control this behavior.\n",
      "  _warn_prf(average, modifier, msg_start, len(result))\n",
      "/home/wish/.venv/play/lib/python3.8/site-packages/sklearn/metrics/_classification.py:1248: UndefinedMetricWarning: Precision and F-score are ill-defined and being set to 0.0 in labels with no predicted samples. Use `zero_division` parameter to control this behavior.\n",
      "  _warn_prf(average, modifier, msg_start, len(result))\n"
     ]
    },
    {
     "name": "stdout",
     "output_type": "stream",
     "text": [
      "[[1 0 0 ... 0 0 1]\n",
      " [0 0 0 ... 0 0 0]\n",
      " [0 0 0 ... 0 0 0]\n",
      " ...\n",
      " [0 0 0 ... 0 0 0]\n",
      " [0 0 0 ... 0 0 0]\n",
      " [0 1 0 ... 0 0 0]]\n",
      "              precision    recall  f1-score   support\n",
      "\n",
      "        -100       0.00      0.00      0.00     16394\n",
      "           0       0.70      1.00      0.82     34257\n",
      "           1       0.86      1.00      0.92      9127\n",
      "           2       0.50      1.00      0.67        30\n",
      "           3       0.30      0.89      0.44        18\n",
      "           4       0.92      0.85      0.88        27\n",
      "           5       0.52      0.89      0.65        19\n",
      "           6       0.47      0.91      0.62        22\n",
      "           7       0.83      1.00      0.91        10\n",
      "\n",
      "    accuracy                           0.73     59904\n",
      "   macro avg       0.56      0.84      0.66     59904\n",
      "weighted avg       0.53      0.73      0.61     59904\n",
      "\n"
     ]
    },
    {
     "name": "stderr",
     "output_type": "stream",
     "text": [
      "/home/wish/.venv/play/lib/python3.8/site-packages/sklearn/metrics/_classification.py:1248: UndefinedMetricWarning: Precision and F-score are ill-defined and being set to 0.0 in labels with no predicted samples. Use `zero_division` parameter to control this behavior.\n",
      "  _warn_prf(average, modifier, msg_start, len(result))\n",
      "/home/wish/.venv/play/lib/python3.8/site-packages/sklearn/metrics/_classification.py:1248: UndefinedMetricWarning: Precision and F-score are ill-defined and being set to 0.0 in labels with no predicted samples. Use `zero_division` parameter to control this behavior.\n",
      "  _warn_prf(average, modifier, msg_start, len(result))\n",
      "/home/wish/.venv/play/lib/python3.8/site-packages/sklearn/metrics/_classification.py:1248: UndefinedMetricWarning: Precision and F-score are ill-defined and being set to 0.0 in labels with no predicted samples. Use `zero_division` parameter to control this behavior.\n",
      "  _warn_prf(average, modifier, msg_start, len(result))\n"
     ]
    },
    {
     "name": "stdout",
     "output_type": "stream",
     "text": [
      "[[1 0 0 ... 0 0 1]\n",
      " [0 0 0 ... 0 0 0]\n",
      " [0 0 0 ... 0 0 0]\n",
      " ...\n",
      " [0 0 0 ... 0 0 0]\n",
      " [0 0 0 ... 0 0 0]\n",
      " [0 1 0 ... 0 0 0]]\n",
      "              precision    recall  f1-score   support\n",
      "\n",
      "        -100       0.00      0.00      0.00     16394\n",
      "           0       0.70      1.00      0.83     34257\n",
      "           1       0.83      1.00      0.91      9127\n",
      "           2       0.51      1.00      0.67        30\n",
      "           3       0.30      0.89      0.45        18\n",
      "           4       0.85      0.85      0.85        27\n",
      "           5       0.49      0.89      0.63        19\n",
      "           6       0.43      0.91      0.58        22\n",
      "           7       0.83      1.00      0.91        10\n",
      "\n",
      "    accuracy                           0.73     59904\n",
      "   macro avg       0.55      0.84      0.65     59904\n",
      "weighted avg       0.53      0.73      0.61     59904\n",
      "\n"
     ]
    },
    {
     "name": "stderr",
     "output_type": "stream",
     "text": [
      "/home/wish/.venv/play/lib/python3.8/site-packages/sklearn/metrics/_classification.py:1248: UndefinedMetricWarning: Precision and F-score are ill-defined and being set to 0.0 in labels with no predicted samples. Use `zero_division` parameter to control this behavior.\n",
      "  _warn_prf(average, modifier, msg_start, len(result))\n",
      "/home/wish/.venv/play/lib/python3.8/site-packages/sklearn/metrics/_classification.py:1248: UndefinedMetricWarning: Precision and F-score are ill-defined and being set to 0.0 in labels with no predicted samples. Use `zero_division` parameter to control this behavior.\n",
      "  _warn_prf(average, modifier, msg_start, len(result))\n",
      "/home/wish/.venv/play/lib/python3.8/site-packages/sklearn/metrics/_classification.py:1248: UndefinedMetricWarning: Precision and F-score are ill-defined and being set to 0.0 in labels with no predicted samples. Use `zero_division` parameter to control this behavior.\n",
      "  _warn_prf(average, modifier, msg_start, len(result))\n"
     ]
    },
    {
     "name": "stdout",
     "output_type": "stream",
     "text": [
      "[[1 0 0 ... 0 0 1]\n",
      " [0 0 0 ... 0 0 0]\n",
      " [0 0 0 ... 0 0 0]\n",
      " ...\n",
      " [0 0 0 ... 0 0 0]\n",
      " [0 0 0 ... 0 0 0]\n",
      " [0 1 0 ... 0 0 0]]\n",
      "              precision    recall  f1-score   support\n",
      "\n",
      "        -100       0.00      0.00      0.00     16394\n",
      "           0       0.70      1.00      0.82     34257\n",
      "           1       0.86      1.00      0.92      9127\n",
      "           2       0.47      1.00      0.64        30\n",
      "           3       0.27      0.89      0.42        18\n",
      "           4       0.88      0.85      0.87        27\n",
      "           5       0.44      0.89      0.59        19\n",
      "           6       0.48      0.91      0.62        22\n",
      "           7       0.83      1.00      0.91        10\n",
      "\n",
      "    accuracy                           0.73     59904\n",
      "   macro avg       0.55      0.84      0.64     59904\n",
      "weighted avg       0.53      0.73      0.61     59904\n",
      "\n"
     ]
    },
    {
     "name": "stderr",
     "output_type": "stream",
     "text": [
      "/home/wish/.venv/play/lib/python3.8/site-packages/sklearn/metrics/_classification.py:1248: UndefinedMetricWarning: Precision and F-score are ill-defined and being set to 0.0 in labels with no predicted samples. Use `zero_division` parameter to control this behavior.\n",
      "  _warn_prf(average, modifier, msg_start, len(result))\n",
      "/home/wish/.venv/play/lib/python3.8/site-packages/sklearn/metrics/_classification.py:1248: UndefinedMetricWarning: Precision and F-score are ill-defined and being set to 0.0 in labels with no predicted samples. Use `zero_division` parameter to control this behavior.\n",
      "  _warn_prf(average, modifier, msg_start, len(result))\n",
      "/home/wish/.venv/play/lib/python3.8/site-packages/sklearn/metrics/_classification.py:1248: UndefinedMetricWarning: Precision and F-score are ill-defined and being set to 0.0 in labels with no predicted samples. Use `zero_division` parameter to control this behavior.\n",
      "  _warn_prf(average, modifier, msg_start, len(result))\n"
     ]
    },
    {
     "data": {
      "text/plain": [
       "TrainOutput(global_step=1170, training_loss=0.025446575580753833, metrics={'train_runtime': 182.5067, 'train_samples_per_second': 6.411, 'total_flos': 1529650796967360.0, 'epoch': 10.0, 'init_mem_cpu_alloc_delta': 3110973440, 'init_mem_gpu_alloc_delta': 431432192, 'init_mem_cpu_peaked_delta': 418070528, 'init_mem_gpu_peaked_delta': 0, 'train_mem_cpu_alloc_delta': 877699072, 'train_mem_gpu_alloc_delta': 1736098304, 'train_mem_cpu_peaked_delta': 177430528, 'train_mem_gpu_peaked_delta': 2836218368})"
      ]
     },
     "execution_count": 20,
     "metadata": {},
     "output_type": "execute_result"
    }
   ],
   "source": [
    "trainer.train()"
   ]
  },
  {
   "cell_type": "code",
   "execution_count": null,
   "id": "05385001",
   "metadata": {},
   "outputs": [],
   "source": []
  }
 ],
 "metadata": {
  "kernelspec": {
   "display_name": "Python 3",
   "language": "python",
   "name": "python3"
  },
  "language_info": {
   "codemirror_mode": {
    "name": "ipython",
    "version": 3
   },
   "file_extension": ".py",
   "mimetype": "text/x-python",
   "name": "python",
   "nbconvert_exporter": "python",
   "pygments_lexer": "ipython3",
   "version": "3.8.0"
  }
 },
 "nbformat": 4,
 "nbformat_minor": 5
}
