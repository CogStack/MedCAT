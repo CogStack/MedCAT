{
 "cells": [
  {
   "cell_type": "markdown",
   "id": "4476b691",
   "metadata": {},
   "source": [
    "# If in DEV mode"
   ]
  },
  {
   "cell_type": "code",
   "execution_count": null,
   "id": "a71e2c21",
   "metadata": {},
   "outputs": [],
   "source": [
    "import sys\n",
    "sys.path.insert(0, \"/home/wish/projects/MedCAT/\")"
   ]
  },
  {
   "cell_type": "code",
   "execution_count": null,
   "id": "a6d818bf",
   "metadata": {},
   "outputs": [],
   "source": [
    "%load_ext autoreload\n",
    "%autoreload 2"
   ]
  },
  {
   "cell_type": "markdown",
   "id": "b4cc905f",
   "metadata": {},
   "source": [
    "# Beginning"
   ]
  },
  {
   "cell_type": "code",
   "execution_count": null,
   "id": "d78ae0b2",
   "metadata": {},
   "outputs": [],
   "source": [
    "from medcat.neo.data_preparation import *\n",
    "from medcat.neo.neo_connector import NeoConnector\n",
    "import pandas as pd\n",
    "import os\n",
    "import pickle"
   ]
  },
  {
   "cell_type": "markdown",
   "id": "63550a6f",
   "metadata": {},
   "source": [
    "# Create NEO"
   ]
  },
  {
   "cell_type": "code",
   "execution_count": null,
   "id": "a4f3945b",
   "metadata": {},
   "outputs": [],
   "source": [
    "neo = NeoConnector('bolt://localhost:7687/', user='neo4j')"
   ]
  },
  {
   "cell_type": "markdown",
   "id": "d81ff0de",
   "metadata": {},
   "source": [
    "# Create INDICIES\n",
    "\n",
    "Need to optimize the data load and some queries"
   ]
  },
  {
   "cell_type": "code",
   "execution_count": null,
   "id": "64b70942",
   "metadata": {
    "scrolled": true
   },
   "outputs": [],
   "source": [
    "for ind in get_index_queries():\n",
    "    try:\n",
    "        neo.execute(ind)\n",
    "    except Exception as e:\n",
    "        print(e)"
   ]
  },
  {
   "cell_type": "markdown",
   "id": "19f6002b",
   "metadata": {},
   "source": [
    "# Make a Patients CSV\n",
    "\n",
    "This notebook loads MIMIC-III data, if you have access download the PATIENTS and noteevents CSVs and you'll be able to follow the notebook. "
   ]
  },
  {
   "cell_type": "code",
   "execution_count": null,
   "id": "196342d3",
   "metadata": {},
   "outputs": [],
   "source": [
    "df = pd.read_csv(\"/home/wish/data/mimic/PATIENTS.csv\") # Patients CSV from MIMIC-III\n",
    "df.DOB = pd.to_datetime(df.DOB)\n",
    "df['ethnicity'] = [None] * len(df) # Do not know ethnicity, if known add it here\n",
    "df = df.rename(columns={'SUBJECT_ID': 'patientId', 'GENDER': 'sex', 'DOB': 'dob'})"
   ]
  },
  {
   "cell_type": "code",
   "execution_count": null,
   "id": "96326e9e",
   "metadata": {
    "scrolled": true
   },
   "outputs": [],
   "source": [
    "# The created CSV has to be saved/copied into the /var/lib/neo4j/import, \n",
    "#otherwise the query execution below will not work\n",
    "q = create_patients_csv(df, output_dir='/home/wish/data/neo/mimic/')"
   ]
  },
  {
   "cell_type": "code",
   "execution_count": null,
   "id": "cc238332",
   "metadata": {},
   "outputs": [],
   "source": [
    "neo.execute(q)"
   ]
  },
  {
   "cell_type": "markdown",
   "id": "85855c23",
   "metadata": {},
   "source": [
    "# Make a CUIs CSV"
   ]
  },
  {
   "cell_type": "code",
   "execution_count": null,
   "id": "f210321c",
   "metadata": {},
   "outputs": [],
   "source": [
    "from medcat.cdb import CDB"
   ]
  },
  {
   "cell_type": "code",
   "execution_count": null,
   "id": "6ad69c36",
   "metadata": {},
   "outputs": [],
   "source": [
    "# Load the CDB that was used to create the annotations you will import later\n",
    "cdb = CDB.load(\"/home/wish/data/models/phase1_inital_16_04.dat\")"
   ]
  },
  {
   "cell_type": "code",
   "execution_count": null,
   "id": "59bba1c0",
   "metadata": {},
   "outputs": [],
   "source": [
    "data = [['conceptId', 'name', 'type']]\n",
    "cuis = set()\n",
    "for cui in cdb.cui2names.keys(): # Use all concepts, always\n",
    "    cuis.add(cui)\n",
    "    type_ids = list(cdb.cui2type_ids[cui])\n",
    "    type_id = type_ids[0] if len(type_ids) else 'unk'\n",
    "    t = str(cdb.addl_info['type_id2name'].get(type_id, type_id))\n",
    "    data.append([str(cui), str(cdb.get_name(cui)), t])\n",
    "data = pd.DataFrame(data[1:], columns=data[0])"
   ]
  },
  {
   "cell_type": "code",
   "execution_count": null,
   "id": "ccff10c8",
   "metadata": {
    "scrolled": true
   },
   "outputs": [],
   "source": [
    "# The created CSV has to be saved/copied into the /var/lib/neo4j/import, \n",
    "#otherwise the query execution below will not work\n",
    "q = create_concepts_csv(data, output_dir='/home/wish/data/neo/mimic/')"
   ]
  },
  {
   "cell_type": "code",
   "execution_count": null,
   "id": "2d52d3e0",
   "metadata": {},
   "outputs": [],
   "source": [
    "neo.execute(q)"
   ]
  },
  {
   "cell_type": "markdown",
   "id": "92769a59",
   "metadata": {},
   "source": [
    "# Make the snomed ontology\n",
    "\n",
    "This will add a IS_A relation to neo4j representing the SNOMED ontology"
   ]
  },
  {
   "cell_type": "code",
   "execution_count": null,
   "id": "2652e364",
   "metadata": {},
   "outputs": [],
   "source": [
    "data = [['child', 'parent']]\n",
    "for parent, children in cdb.addl_info['pt2ch'].items():\n",
    "    for child in children:\n",
    "        if child != parent:\n",
    "            data.append([child, parent])\n",
    "data = pd.DataFrame(data[1:], columns=data[0])"
   ]
  },
  {
   "cell_type": "code",
   "execution_count": null,
   "id": "d0318323",
   "metadata": {},
   "outputs": [],
   "source": [
    "# The created CSV has to be saved/copied into the /var/lib/neo4j/import, \n",
    "#otherwise the query execution below will not work\n",
    "q = create_concept_ontology_csv(data, output_dir='/home/wish/data/neo/mimic/')"
   ]
  },
  {
   "cell_type": "code",
   "execution_count": null,
   "id": "1469d566",
   "metadata": {},
   "outputs": [],
   "source": [
    "neo.execute(q)"
   ]
  },
  {
   "cell_type": "markdown",
   "id": "3d1d6775",
   "metadata": {},
   "source": [
    "# Make documents CSV"
   ]
  },
  {
   "cell_type": "code",
   "execution_count": null,
   "id": "1fd509a2",
   "metadata": {},
   "outputs": [],
   "source": [
    "# Add all documents (without text) to the database\n",
    "df = pd.read_csv(\"/home/wish/data/mimic/raw/noteevents.csv\")"
   ]
  },
  {
   "cell_type": "code",
   "execution_count": null,
   "id": "873b925a",
   "metadata": {},
   "outputs": [],
   "source": [
    "data = [['documentId']]\n",
    "data.extend(set(df['row_id'].values))\n",
    "data = pd.DataFrame(data[1:], columns=data[0])"
   ]
  },
  {
   "cell_type": "code",
   "execution_count": null,
   "id": "b69b8764",
   "metadata": {
    "scrolled": true
   },
   "outputs": [],
   "source": [
    "# The created CSV has to be saved/copied into the /var/lib/neo4j/import, \n",
    "#otherwise the query execution below will not work\n",
    "q = create_documents_csv(data, output_dir='/home/wish/data/neo/mimic/')"
   ]
  },
  {
   "cell_type": "code",
   "execution_count": null,
   "id": "3fe19283",
   "metadata": {},
   "outputs": [],
   "source": [
    "neo.execute(q)"
   ]
  },
  {
   "cell_type": "markdown",
   "id": "b449dbfe",
   "metadata": {},
   "source": [
    "# Make patient2document"
   ]
  },
  {
   "cell_type": "code",
   "execution_count": null,
   "id": "eb56d109",
   "metadata": {},
   "outputs": [],
   "source": [
    "# Add the patient to document relation for all pts and docs\n",
    "df = pd.read_csv(\"/home/wish/data/mimic/raw/noteevents.csv\")"
   ]
  },
  {
   "cell_type": "code",
   "execution_count": null,
   "id": "595a42d8",
   "metadata": {},
   "outputs": [],
   "source": [
    "data = [['patientId', 'documentId']]\n",
    "for d, p in df[['row_id', 'subject_id']].values:\n",
    "    data.append([p, d])"
   ]
  },
  {
   "cell_type": "code",
   "execution_count": null,
   "id": "f5350ff9",
   "metadata": {},
   "outputs": [],
   "source": [
    "data = pd.DataFrame(data[1:], columns=data[0])"
   ]
  },
  {
   "cell_type": "code",
   "execution_count": null,
   "id": "1ab00185",
   "metadata": {},
   "outputs": [],
   "source": [
    "# The created CSV has to be saved/copied into the /var/lib/neo4j/import, \n",
    "#otherwise the query execution below will not work\n",
    "q = create_document2patient_csv(data, output_dir='/home/wish/data/neo/mimic/')"
   ]
  },
  {
   "cell_type": "code",
   "execution_count": null,
   "id": "5f53ed3f",
   "metadata": {
    "scrolled": true
   },
   "outputs": [],
   "source": [
    "neo.execute(q)"
   ]
  },
  {
   "cell_type": "markdown",
   "id": "7b489f7e",
   "metadata": {},
   "source": [
    "# Make annotations CSV"
   ]
  },
  {
   "cell_type": "code",
   "execution_count": null,
   "id": "7075dfff",
   "metadata": {},
   "outputs": [],
   "source": [
    "# This requires a couple of extra dictionaries that can be created from PATIENTS.csv of noteevents.csv\n",
    "#I have created them earlier that is why I'm just loading them here\n",
    "doc2pt = pickle.load(open('/home/wish/data/timecat/mimic/doc2pt.pickle', 'rb'))\n",
    "# The timestamp taken from noteevents.csv\n",
    "doc2time = pickle.load(open('/home/wish/data/timecat/mimic/doc2time.pickle', 'rb'))\n",
    "doc2time = {str(k):v for k,v in doc2time.items()}\n",
    "doc2pt = {str(k):v for k,v in doc2pt.items()}"
   ]
  },
  {
   "cell_type": "code",
   "execution_count": null,
   "id": "8e3d439b",
   "metadata": {},
   "outputs": [],
   "source": [
    "# This takes the output folder from cat.multiprocessing, files have to start with part_\n",
    "data_dir = \"/home/wish/data/timecat/mimic/annotated_november_2021/\"\n",
    "paths = [path for path in os.listdir(data_dir) \n",
    "         if path.startswith('part_')]"
   ]
  },
  {
   "cell_type": "code",
   "execution_count": null,
   "id": "4b94b860",
   "metadata": {
    "scrolled": true
   },
   "outputs": [],
   "source": [
    "queries = []\n",
    "for path in paths:\n",
    "    print(f'Working on: {path}')\n",
    "    docs = pickle.load(open(data_dir + path, 'rb'))\n",
    "    data = get_data_from_docs(docs, doc2pt, doc2time)\n",
    "    data = pd.DataFrame(data[1:], columns=data[0])\n",
    "    \n",
    "    # The created CSV has to be saved/copied into the /var/lib/neo4j/import, \n",
    "    #otherwise the query execution below will not work\n",
    "    q = create_document2concept_csv(data, output_dir='/home/wish/data/neo/mimic/',\n",
    "                                    base_name='rel_' + path.replace('.pickle', ''))\n",
    "    queries.append(q)\n",
    "    print('done\\n')"
   ]
  },
  {
   "cell_type": "code",
   "execution_count": null,
   "id": "12cb8e9b",
   "metadata": {
    "scrolled": true
   },
   "outputs": [],
   "source": [
    "for i, q in enumerate(queries):\n",
    "    print(\"Running q: {}\".format(i))\n",
    "    neo.execute(q)"
   ]
  },
  {
   "cell_type": "markdown",
   "id": "0a69256f",
   "metadata": {},
   "source": [
    "# Query the database for patients and concepts"
   ]
  },
  {
   "cell_type": "code",
   "execution_count": null,
   "id": "53460494",
   "metadata": {},
   "outputs": [],
   "source": [
    "pts, q = neo.get_all_patients(concepts=['86406008', '20639004'], limit=1000)"
   ]
  },
  {
   "cell_type": "code",
   "execution_count": null,
   "id": "0f4c3511",
   "metadata": {
    "scrolled": true
   },
   "outputs": [],
   "source": [
    "pts"
   ]
  },
  {
   "cell_type": "code",
   "execution_count": null,
   "id": "d09a26c7",
   "metadata": {
    "scrolled": true
   },
   "outputs": [],
   "source": [
    "stream, q = neo.get_all_concepts_from(patient_id='20807', limit=10000, bucket_size_seconds=None, min_count=0,\n",
    "                              meta_requirements={'metaTime': 'Recent'})"
   ]
  },
  {
   "cell_type": "code",
   "execution_count": null,
   "id": "7b1622ae",
   "metadata": {},
   "outputs": [],
   "source": [
    "print(q)"
   ]
  },
  {
   "cell_type": "code",
   "execution_count": null,
   "id": "1e19d335",
   "metadata": {
    "scrolled": true
   },
   "outputs": [],
   "source": [
    "pd.DataFrame(stream['entities'])"
   ]
  }
 ],
 "metadata": {
  "kernelspec": {
   "display_name": "Python 3 (ipykernel)",
   "language": "python",
   "name": "python3"
  },
  "language_info": {
   "codemirror_mode": {
    "name": "ipython",
    "version": 3
   },
   "file_extension": ".py",
   "mimetype": "text/x-python",
   "name": "python",
   "nbconvert_exporter": "python",
   "pygments_lexer": "ipython3",
   "version": "3.8.0"
  }
 },
 "nbformat": 4,
 "nbformat_minor": 5
}
