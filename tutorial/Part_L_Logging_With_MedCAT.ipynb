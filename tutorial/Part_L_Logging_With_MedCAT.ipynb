{
 "cells": [
  {
   "cell_type": "markdown",
   "metadata": {},
   "source": [
    "### TODO - this should be moved to MedCATtutorials if/when the release with the logging changes is released\n",
    "# MedCAT tutorial - logging with MedCAT\n",
    "How MedCAT handles logging has changed somewhat as of recently.\n",
    "The idea is that MedCAT as a library attempts to interfere as little as possible with its users choice of what, how and where to log information.\n",
    "\n",
    "The current startegy is 'opt in'. Which means that by default, all logging is disabled by MedCAT. However, we've added a shorthand for adding some handlers for console as well as _medcat.log_ logging. And on top of that, it is pretty simple for the user to change the logging behaviour of different parts of the project separately. We will go over that in small examples below."
   ]
  },
  {
   "cell_type": "markdown",
   "metadata": {},
   "source": [
    "First of all, we want to import MedCAT and make sure that the version we're looking at includes the newer logging functionality."
   ]
  },
  {
   "cell_type": "code",
   "execution_count": null,
   "metadata": {},
   "outputs": [],
   "source": [
    "# import medcat\n",
    "import medcat\n",
    "# we will use the below later\n",
    "from medcat import config\n",
    "from medcat import cat\n",
    "import os\n",
    "# print out version string\n",
    "print(medcat.__version__)\n",
    "# make sure there is a logger\n",
    "if not hasattr(medcat, 'logger'):\n",
    "    raise ValueError(\"This is an incompatible version!\")\n",
    "print(\"The package logger:\", medcat.logger)\n",
    "\n",
    "def reset_all_logger_handlers(log_file='temp_medcat.log'): # reset logger handlers in case a block is run multiple times\n",
    "    medcat.logger.handlers = medcat.logger.handlers[:1] # include the default NullHandler\n",
    "    config.logger.handlers = []\n",
    "    cat.logger.handlers = []\n",
    "    # remove temp log file if it exists\n",
    "    if os.path.exists(log_file):\n",
    "        os.remove(log_file)"
   ]
  },
  {
   "cell_type": "markdown",
   "metadata": {},
   "source": [
    "What we must now understand is that the `logging` library uses a hierarchical system for the loggers. That means that all the module-level loggers within MedCAT have the `medcat.logger` (which is the package-level logger) as their parent logger. So if we want to change the logging behaviour for the entire project, we can just interact with this one logger. However, if we want fine grained control, we can interact with each module-level logger separately."
   ]
  },
  {
   "cell_type": "markdown",
   "metadata": {},
   "source": [
    "## The shorthand for logging\n",
    "We have created a shorthand method to enable logging into the console as well as the `medcat.log` file. This is the `medcat.add_default_log_handlers` method. If you call it without any arguments, it will act on the package-level logger and use the above mentioned default file. However, the user can call this method with any other logger and/or target file name."
   ]
  },
  {
   "cell_type": "code",
   "execution_count": null,
   "metadata": {},
   "outputs": [],
   "source": [
    "log_file = 'temp_medcat.log'\n",
    "import os\n",
    "# the default behaviour is to not log anything, the following should thus not create any output\n",
    "medcat.logger.warning(\"This should be ignored\")\n",
    "print('Log file should not exists, does it?', os.path.exists(log_file))\n",
    "# enable default loggging to the package-level logger\n",
    "medcat.add_default_log_handlers(target_file=log_file)\n",
    "# now we should have a console logger as well as a log in medcat.log\n",
    "# so we should see the following output to both\n",
    "msg = \"This message should show up in console and be written to medcat.log\"\n",
    "medcat.logger.warning(msg)\n",
    "with open(log_file, 'r') as f:\n",
    "    last_line = f.readlines()[-1][:-1] # last line, ignoring the newline char\n",
    "    print(\"Last line should be equal to our message\", msg == last_line)\n",
    "reset_all_logger_handlers(log_file) # for cleanup"
   ]
  },
  {
   "cell_type": "markdown",
   "metadata": {},
   "source": [
    "The above example was trivial since we were acting on the logger ourselves. In production, this would happen as a side effect instead. But since the code is acting on the same instance, the result will be the same as well.\n",
    "\n",
    "The other thing to note is the fact that the above example changes the package-level logger. That is, it will change the logging behaviour within the entire project. However, as mentioned above, one can do this for each module separately as well.\n",
    "\n",
    "Every module that needs to log something will define a module level variable `logger`. When adjusting this logger, the change in behaviour will only affect that logger and thus only affect that module's output."
   ]
  },
  {
   "cell_type": "markdown",
   "metadata": {},
   "source": [
    "So we will now try to show that a little more precisely.\n",
    "In order to do that, we will use the logger attached to `medcat.config`."
   ]
  },
  {
   "cell_type": "code",
   "execution_count": null,
   "metadata": {},
   "outputs": [],
   "source": [
    "import logging\n",
    "config.logger.addHandler(logging.StreamHandler())\n",
    "# now, the medcat.logger won't log into console\n",
    "medcat.logger.error(\"This error does not show up\")\n",
    "# however, the config.logger will\n",
    "config.logger.warning(\"This warning will show up\")\n",
    "# and at the same time, we can see that the logger of cat won't log anything either\n",
    "cat.logger.warning(\"This warning will not show up either\")\n",
    "reset_all_logger_handlers() # for cleanup"
   ]
  },
  {
   "cell_type": "markdown",
   "metadata": {},
   "source": [
    "## Adding a handler that logs into a file\n",
    "Of course, one can also add a handler that logs things into a file. Just like we saw with the default handlers above. We can use this to have different modules in the project log to different files"
   ]
  },
  {
   "cell_type": "code",
   "execution_count": null,
   "metadata": {},
   "outputs": [],
   "source": [
    "target_file_config = 'medcat_config.log' # some target log file for config logger\n",
    "target_file_cat = 'medcat_cat.log' # different log file for cat\n",
    "# set up different file handlers for the two different modules\n",
    "config.logger.addHandler(logging.FileHandler(target_file_config))\n",
    "cat.logger.addHandler(logging.FileHandler(target_file_cat))\n",
    "# config now logs into a different file than cat\n",
    "# i.e the following gets logged into config's log file\n",
    "config.logger.warning(\"There has been an issue with the config\")\n",
    "# and the following gets logged into cat's log file\n",
    "cat.logger.error(\"There was a critical issue in CAT\")\n",
    "# we can check that by looking at the files\n",
    "with open(target_file_config) as f:\n",
    "    config_contents = f.read()\n",
    "with open(target_file_cat) as f:\n",
    "    cat_contents = f.read()\n",
    "print('Config log contents:\\n', config_contents)\n",
    "print('CAT log contents:\\n', cat_contents)\n",
    "# cleanup\n",
    "reset_all_logger_handlers(target_file_config)\n",
    "reset_all_logger_handlers(target_file_cat)"
   ]
  },
  {
   "cell_type": "markdown",
   "metadata": {},
   "source": [
    "One can also modify other things within loggers for different modules. I.e adding filters or setting levels for different loggers. You can read more about these things at https://realpython.com/python-logging-source-code/."
   ]
  }
 ],
 "metadata": {
  "kernelspec": {
   "display_name": "Python 3.9.6 ('venv': venv)",
   "language": "python",
   "name": "python3"
  },
  "language_info": {
   "codemirror_mode": {
    "name": "ipython",
    "version": 3
   },
   "file_extension": ".py",
   "mimetype": "text/x-python",
   "name": "python",
   "nbconvert_exporter": "python",
   "pygments_lexer": "ipython3",
   "version": "3.9.6"
  },
  "vscode": {
   "interpreter": {
    "hash": "0d20877e080635f7c4968c49fce8aa5e74c8d7837295e20d04554edce953f9c6"
   }
  }
 },
 "nbformat": 4,
 "nbformat_minor": 2
}
